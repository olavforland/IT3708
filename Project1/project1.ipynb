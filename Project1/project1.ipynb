{
 "cells": [
  {
   "cell_type": "code",
   "execution_count": null,
   "metadata": {},
   "outputs": [],
   "source": [
    "from genetic_algorithm import SGA_Sine\n",
    "sga_sine = SGA_Sine(size=100, bits=15)\n",
    "\n",
    "population, mean_fitness, best_fitness = sga_sine.run(\n",
    "    generations=10,\n",
    "    maximize=True,\n",
    "    p_crossover=0.6,\n",
    "    p_mut=0.01,\n",
    "    feasible_region=(5, 10),\n",
    ")"
   ]
  },
  {
   "cell_type": "code",
   "execution_count": null,
   "metadata": {},
   "outputs": [],
   "source": [
    "import numpy as np\n",
    "from plots import plot_fitness\n",
    "\n",
    "plot_fitness(mean_fitness, best_fitness)\n"
   ]
  },
  {
   "cell_type": "code",
   "execution_count": null,
   "metadata": {},
   "outputs": [],
   "source": [
    "from plots import plot_sine\n",
    "x_pop = list(map(lambda x: np.asarray(sga_sine.decode(x), dtype=float), population))\n",
    "\n",
    "\n",
    "plot_sine(x_pop, generation=0)"
   ]
  },
  {
   "cell_type": "code",
   "execution_count": null,
   "metadata": {},
   "outputs": [],
   "source": [
    "from genetic_algorithm import SGA_LinReg\n",
    "import pandas as pd\n",
    "from LinReg import LinReg\n",
    "\n",
    "data = pd.read_csv('dataset.txt', header=None).values\n",
    "X, y = data[:, :-1], data[:, -1]\n",
    "reg = LinReg(X=X, y=y)\n",
    "\n",
    "size = 50\n",
    "bits = X.shape[1]\n",
    "from time import time\n",
    "for size, p_crossover, p_mut in [(50, 0.3, 0.01), (100, 0.3, 0.01)]:\n",
    "    sga_linreg = SGA_LinReg(size=size, bits=bits, linreg=reg)\n",
    "    t = time()\n",
    "    population, mean_fitness, best_fitness = sga_linreg.run(generations=200, maximize=False, p_crossover=p_crossover, p_mut=p_mut)\n",
    "    print(f'Elapsed time: {time() - t:.2f} seconds')\n",
    "    print(f'[size={size}, p_crossover={p_crossover}, p_mut={p_mut}, best_fitness={best_fitness[-1]:.4f}, mean_fitness={mean_fitness[-1]:.4f}')\n"
   ]
  },
  {
   "cell_type": "markdown",
   "metadata": {},
   "source": [
    "Best hyperparameters: \n",
    "\n",
    "Elapsed time: 23.67 seconds\n",
    "\n",
    "[size=50, p_crossover=0.3, p_mut=0.01, best_fitness=0.1231, mean_fitness=0.1233]\n",
    "\n",
    "Elapsed time: 78.64 seconds\n",
    "\n",
    "[size=100, p_crossover=0.3, p_mut=0.01, best_fitness=0.1229, mean_fitness=0.1230]"
   ]
  },
  {
   "cell_type": "code",
   "execution_count": null,
   "metadata": {},
   "outputs": [],
   "source": [
    "import numpy as np\n",
    "from plots import plot_fitness\n",
    "\n",
    "size = 50\n",
    "bits = X.shape[1]\n",
    "sga_linreg = SGA_LinReg(size=size, bits=bits, linreg=reg)\n",
    "population, mean_fitness, best_fitness = sga_linreg.run(generations=500, maximize=False, p_crossover=0.3, p_mut=0.01)\n",
    "plot_fitness(mean_fitness, best_fitness)"
   ]
  },
  {
   "cell_type": "code",
   "execution_count": null,
   "metadata": {},
   "outputs": [],
   "source": [
    "fitness = np.array(list(map(lambda x: reg.get_fitness(x), population[-1])))\n",
    "best_features = population[-1][np.argmin(fitness)]\n",
    "mean_features = np.mean(population[-1])"
   ]
  },
  {
   "cell_type": "code",
   "execution_count": null,
   "metadata": {},
   "outputs": [],
   "source": [
    "print('Fitness of best features: ', best_fitness[-1]) \n",
    "print('Fitness of mean features: ', mean_fitness[-1])\n",
    "print('Fitness of all features: ', reg.get_fitness(np.ones_like(best_features)))"
   ]
  }
 ],
 "metadata": {
  "kernelspec": {
   "display_name": "bio",
   "language": "python",
   "name": "python3"
  },
  "language_info": {
   "codemirror_mode": {
    "name": "ipython",
    "version": 3
   },
   "file_extension": ".py",
   "mimetype": "text/x-python",
   "name": "python",
   "nbconvert_exporter": "python",
   "pygments_lexer": "ipython3",
   "version": "3.11.0"
  }
 },
 "nbformat": 4,
 "nbformat_minor": 2
}
