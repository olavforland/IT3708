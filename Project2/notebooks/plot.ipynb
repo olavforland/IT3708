{
 "cells": [
  {
   "cell_type": "code",
   "execution_count": 1,
   "metadata": {},
   "outputs": [],
   "source": [
    "import json\n",
    "\n",
    "def id_2_coords(id):\n",
    "    if id == 0:\n",
    "        return depot['x_coord'], depot['y_coord']\n",
    "    else:\n",
    "        return patients[str(id)]['x_coord'], patients[str(id)]['y_coord']\n",
    "\n",
    "instance = 9\n",
    "\n",
    "filename = f'train_{instance}.json'\n",
    "\n",
    "with open('../data/' + filename, 'r') as file:\n",
    "    data = json.load(file)\n",
    "\n",
    "depot = data['depot']\n",
    "patients = data['patients']\n",
    "\n",
    "with open('../solutions/' + filename, 'r') as file:\n",
    "    data = json.load(file)\n",
    "\n",
    "chromosomes = []\n",
    "for chromosome in data:\n",
    "\n",
    "    solution = chromosome['phenotype']\n",
    "    fitness = chromosome['fitness']\n",
    "    time_unfitness = chromosome['time_unfitness']\n",
    "    strain_unfitness = chromosome['strain_unfitness']\n",
    "\n",
    "    # Create arcs\n",
    "    visits = []\n",
    "    for route in solution:\n",
    "        if len(route) == 0:\n",
    "            continue\n",
    "        visits.append(0)\n",
    "        visits.extend(route)\n",
    "    visits.append(0)\n",
    "\n",
    "    arcs = list(zip(visits[:-1], visits[1:]))\n",
    "\n",
    "    arcs = [(id_2_coords(a), id_2_coords(b)) for a, b in arcs]\n",
    "\n",
    "    chromosomes.append(dict(\n",
    "        arcs=arcs,\n",
    "        genotype=chromosome['genotype'],\n",
    "        fitness=fitness,\n",
    "        time_unfitness=time_unfitness,\n",
    "        strain_unfitness=strain_unfitness\n",
    "    ))"
   ]
  },
  {
   "cell_type": "code",
   "execution_count": 8,
   "metadata": {},
   "outputs": [
    {
     "data": {
      "application/vnd.plotly.v1+json": {
       "config": {
        "plotlyServerURL": "https://plot.ly"
       },
       "data": [
        {
         "hoverinfo": "text",
         "marker": {
          "color": "darkgrey",
          "symbol": "circle"
         },
         "mode": "markers",
         "name": "Patients",
         "text": [
          "Patient 1:<br>Location: (25, 85)<br>Time Window: [673, 803]<br>Visited by nurse 10",
          "Patient 2:<br>Location: (22, 75)<br>Time Window: [152, 282]<br>Visited by nurse 5",
          "Patient 3:<br>Location: (22, 85)<br>Time Window: [471, 601]<br>Visited by nurse 10",
          "Patient 4:<br>Location: (20, 80)<br>Time Window: [644, 774]<br>Visited by nurse 10",
          "Patient 5:<br>Location: (20, 85)<br>Time Window: [73, 203]<br>Visited by nurse 5",
          "Patient 6:<br>Location: (18, 75)<br>Time Window: [388, 518]<br>Visited by nurse 10",
          "Patient 7:<br>Location: (15, 75)<br>Time Window: [300, 430]<br>Visited by nurse 10",
          "Patient 8:<br>Location: (15, 80)<br>Time Window: [367, 497]<br>Visited by nurse 10",
          "Patient 9:<br>Location: (10, 35)<br>Time Window: [371, 501]<br>Visited by nurse 20",
          "Patient 10:<br>Location: (10, 40)<br>Time Window: [519, 649]<br>Visited by nurse 20",
          "Patient 11:<br>Location: (8, 40)<br>Time Window: [195, 325]<br>Visited by nurse 20",
          "Patient 12:<br>Location: (8, 45)<br>Time Window: [223, 353]<br>Visited by nurse 20",
          "Patient 13:<br>Location: (5, 35)<br>Time Window: [653, 783]<br>Visited by nurse 20",
          "Patient 14:<br>Location: (5, 45)<br>Time Window: [35, 165]<br>Visited by nurse 20",
          "Patient 15:<br>Location: (2, 40)<br>Time Window: [174, 304]<br>Visited by nurse 20",
          "Patient 16:<br>Location: (0, 40)<br>Time Window: [255, 385]<br>Visited by nurse 20",
          "Patient 17:<br>Location: (0, 45)<br>Time Window: [703, 833]<br>Visited by nurse 20",
          "Patient 18:<br>Location: (44, 5)<br>Time Window: [335, 465]<br>Visited by nurse 22",
          "Patient 19:<br>Location: (42, 10)<br>Time Window: [254, 384]<br>Visited by nurse 22",
          "Patient 20:<br>Location: (42, 15)<br>Time Window: [537, 667]<br>Visited by nurse 18",
          "Patient 21:<br>Location: (40, 5)<br>Time Window: [215, 345]<br>Visited by nurse 22",
          "Patient 22:<br>Location: (40, 15)<br>Time Window: [375, 505]<br>Visited by nurse 18",
          "Patient 23:<br>Location: (38, 5)<br>Time Window: [201, 331]<br>Visited by nurse 22",
          "Patient 24:<br>Location: (38, 15)<br>Time Window: [681, 811]<br>Visited by nurse 25",
          "Patient 25:<br>Location: (35, 5)<br>Time Window: [784, 914]<br>Visited by nurse 25",
          "Patient 26:<br>Location: (95, 30)<br>Time Window: [529, 659]<br>Visited by nurse 18",
          "Patient 27:<br>Location: (95, 35)<br>Time Window: [146, 276]<br>Visited by nurse 9",
          "Patient 28:<br>Location: (92, 30)<br>Time Window: [149, 279]<br>Visited by nurse 9",
          "Patient 29:<br>Location: (90, 35)<br>Time Window: [194, 324]<br>Visited by nurse 9",
          "Patient 30:<br>Location: (88, 30)<br>Time Window: [246, 376]<br>Visited by nurse 9",
          "Patient 31:<br>Location: (88, 35)<br>Time Window: [165, 295]<br>Visited by nurse 9",
          "Patient 32:<br>Location: (87, 30)<br>Time Window: [621, 751]<br>Visited by nurse 18",
          "Patient 33:<br>Location: (85, 25)<br>Time Window: [80, 210]<br>Visited by nurse 9",
          "Patient 34:<br>Location: (85, 35)<br>Time Window: [487, 617]<br>Visited by nurse 18",
          "Patient 35:<br>Location: (67, 85)<br>Time Window: [657, 787]<br>Visited by nurse 14",
          "Patient 36:<br>Location: (65, 85)<br>Time Window: [43, 173]<br>Visited by nurse 14",
          "Patient 37:<br>Location: (65, 82)<br>Time Window: [557, 687]<br>Visited by nurse 14",
          "Patient 38:<br>Location: (62, 80)<br>Time Window: [278, 408]<br>Visited by nurse 14",
          "Patient 39:<br>Location: (60, 80)<br>Time Window: [64, 194]<br>Visited by nurse 14",
          "Patient 40:<br>Location: (60, 85)<br>Time Window: [329, 459]<br>Visited by nurse 14",
          "Patient 41:<br>Location: (58, 75)<br>Time Window: [376, 506]<br>Visited by nurse 14",
          "Patient 42:<br>Location: (55, 80)<br>Time Window: [33, 163]<br>Visited by nurse 14",
          "Patient 43:<br>Location: (55, 85)<br>Time Window: [574, 704]<br>Visited by nurse 14",
          "Patient 44:<br>Location: (55, 82)<br>Time Window: [217, 347]<br>Visited by nurse 14",
          "Patient 45:<br>Location: (20, 82)<br>Time Window: [37, 167]<br>Visited by nurse 5",
          "Patient 46:<br>Location: (18, 80)<br>Time Window: [489, 619]<br>Visited by nurse 10",
          "Patient 47:<br>Location: (2, 45)<br>Time Window: [105, 235]<br>Visited by nurse 20",
          "Patient 48:<br>Location: (42, 5)<br>Time Window: [732, 862]<br>Visited by nurse 25",
          "Patient 49:<br>Location: (42, 12)<br>Time Window: [440, 570]<br>Visited by nurse 25",
          "Patient 50:<br>Location: (72, 35)<br>Time Window: [507, 637]<br>Visited by nurse 18",
          "Patient 51:<br>Location: (55, 20)<br>Time Window: [326, 456]<br>Visited by nurse 22",
          "Patient 52:<br>Location: (25, 30)<br>Time Window: [175, 305]<br>Visited by nurse 21",
          "Patient 53:<br>Location: (20, 50)<br>Time Window: [375, 505]<br>Visited by nurse 5",
          "Patient 54:<br>Location: (55, 60)<br>Time Window: [601, 731]<br>Visited by nurse 14",
          "Patient 55:<br>Location: (30, 60)<br>Time Window: [599, 729]<br>Visited by nurse 17",
          "Patient 56:<br>Location: (50, 35)<br>Time Window: [557, 687]<br>Visited by nurse 22",
          "Patient 57:<br>Location: (30, 25)<br>Time Window: [397, 527]<br>Visited by nurse 25",
          "Patient 58:<br>Location: (15, 10)<br>Time Window: [782, 912]<br>Visited by nurse 25",
          "Patient 59:<br>Location: (10, 20)<br>Time Window: [42, 172]<br>Visited by nurse 18",
          "Patient 60:<br>Location: (15, 60)<br>Time Window: [694, 824]<br>Visited by nurse 20",
          "Patient 61:<br>Location: (45, 65)<br>Time Window: [258, 388]<br>Visited by nurse 17",
          "Patient 62:<br>Location: (65, 35)<br>Time Window: [167, 297]<br>Visited by nurse 22",
          "Patient 63:<br>Location: (65, 20)<br>Time Window: [39, 169]<br>Visited by nurse 9",
          "Patient 64:<br>Location: (45, 30)<br>Time Window: [191, 321]<br>Visited by nurse 25",
          "Patient 65:<br>Location: (35, 40)<br>Time Window: [11, 141]<br>Visited by nurse 21",
          "Patient 66:<br>Location: (41, 37)<br>Time Window: [566, 696]<br>Visited by nurse 21",
          "Patient 67:<br>Location: (64, 42)<br>Time Window: [268, 398]<br>Visited by nurse 9",
          "Patient 68:<br>Location: (40, 60)<br>Time Window: [612, 742]<br>Visited by nurse 17",
          "Patient 69:<br>Location: (31, 52)<br>Time Window: [157, 287]<br>Visited by nurse 10",
          "Patient 70:<br>Location: (35, 69)<br>Time Window: [810, 940]<br>Visited by nurse 10",
          "Patient 71:<br>Location: (65, 55)<br>Time Window: [241, 371]<br>Visited by nurse 23",
          "Patient 72:<br>Location: (63, 65)<br>Time Window: [60, 190]<br>Visited by nurse 23",
          "Patient 73:<br>Location: (2, 60)<br>Time Window: [286, 416]<br>Visited by nurse 5",
          "Patient 74:<br>Location: (20, 20)<br>Time Window: [645, 775]<br>Visited by nurse 21",
          "Patient 75:<br>Location: (5, 5)<br>Time Window: [232, 362]<br>Visited by nurse 18",
          "Patient 76:<br>Location: (60, 12)<br>Time Window: [268, 398]<br>Visited by nurse 22",
          "Patient 77:<br>Location: (23, 3)<br>Time Window: [764, 894]<br>Visited by nurse 25",
          "Patient 78:<br>Location: (8, 56)<br>Time Window: [365, 495]<br>Visited by nurse 5",
          "Patient 79:<br>Location: (6, 68)<br>Time Window: [352, 482]<br>Visited by nurse 5",
          "Patient 80:<br>Location: (47, 47)<br>Time Window: [822, 952]<br>Visited by nurse 23",
          "Patient 81:<br>Location: (49, 58)<br>Time Window: [355, 485]<br>Visited by nurse 17",
          "Patient 82:<br>Location: (27, 43)<br>Time Window: [152, 282]<br>Visited by nurse 21",
          "Patient 83:<br>Location: (37, 31)<br>Time Window: [105, 235]<br>Visited by nurse 25",
          "Patient 84:<br>Location: (57, 29)<br>Time Window: [395, 525]<br>Visited by nurse 22",
          "Patient 85:<br>Location: (63, 23)<br>Time Window: [344, 474]<br>Visited by nurse 22",
          "Patient 86:<br>Location: (21, 24)<br>Time Window: [349, 479]<br>Visited by nurse 21",
          "Patient 87:<br>Location: (12, 24)<br>Time Window: [359, 489]<br>Visited by nurse 21",
          "Patient 88:<br>Location: (24, 58)<br>Time Window: [260, 390]<br>Visited by nurse 10",
          "Patient 89:<br>Location: (67, 5)<br>Time Window: [713, 843]<br>Visited by nurse 18",
          "Patient 90:<br>Location: (37, 47)<br>Time Window: [359, 489]<br>Visited by nurse 5",
          "Patient 91:<br>Location: (49, 42)<br>Time Window: [719, 849]<br>Visited by nurse 23",
          "Patient 92:<br>Location: (53, 43)<br>Time Window: [14, 144]<br>Visited by nurse 22",
          "Patient 93:<br>Location: (61, 52)<br>Time Window: [808, 938]<br>Visited by nurse 23",
          "Patient 94:<br>Location: (57, 48)<br>Time Window: [392, 522]<br>Visited by nurse 9",
          "Patient 95:<br>Location: (56, 37)<br>Time Window: [100, 230]<br>Visited by nurse 22",
          "Patient 96:<br>Location: (55, 54)<br>Time Window: [562, 692]<br>Visited by nurse 9",
          "Patient 97:<br>Location: (4, 18)<br>Time Window: [547, 677]<br>Visited by nurse 21",
          "Patient 98:<br>Location: (26, 52)<br>Time Window: [172, 302]<br>Visited by nurse 10",
          "Patient 99:<br>Location: (26, 35)<br>Time Window: [308, 438]<br>Visited by nurse 25",
          "Patient 100:<br>Location: (31, 67)<br>Time Window: [810, 940]<br>Visited by nurse 10"
         ],
         "type": "scatter",
         "x": [
          25,
          22,
          22,
          20,
          20,
          18,
          15,
          15,
          10,
          10,
          8,
          8,
          5,
          5,
          2,
          0,
          0,
          44,
          42,
          42,
          40,
          40,
          38,
          38,
          35,
          95,
          95,
          92,
          90,
          88,
          88,
          87,
          85,
          85,
          67,
          65,
          65,
          62,
          60,
          60,
          58,
          55,
          55,
          55,
          20,
          18,
          2,
          42,
          42,
          72,
          55,
          25,
          20,
          55,
          30,
          50,
          30,
          15,
          10,
          15,
          45,
          65,
          65,
          45,
          35,
          41,
          64,
          40,
          31,
          35,
          65,
          63,
          2,
          20,
          5,
          60,
          23,
          8,
          6,
          47,
          49,
          27,
          37,
          57,
          63,
          21,
          12,
          24,
          67,
          37,
          49,
          53,
          61,
          57,
          56,
          55,
          4,
          26,
          26,
          31
         ],
         "y": [
          85,
          75,
          85,
          80,
          85,
          75,
          75,
          80,
          35,
          40,
          40,
          45,
          35,
          45,
          40,
          40,
          45,
          5,
          10,
          15,
          5,
          15,
          5,
          15,
          5,
          30,
          35,
          30,
          35,
          30,
          35,
          30,
          25,
          35,
          85,
          85,
          82,
          80,
          80,
          85,
          75,
          80,
          85,
          82,
          82,
          80,
          45,
          5,
          12,
          35,
          20,
          30,
          50,
          60,
          60,
          35,
          25,
          10,
          20,
          60,
          65,
          35,
          20,
          30,
          40,
          37,
          42,
          60,
          52,
          69,
          55,
          65,
          60,
          20,
          5,
          12,
          3,
          56,
          68,
          47,
          58,
          43,
          31,
          29,
          23,
          24,
          24,
          58,
          5,
          47,
          42,
          43,
          52,
          48,
          37,
          54,
          18,
          52,
          35,
          67
         ]
        },
        {
         "marker": {
          "color": "black",
          "symbol": "square"
         },
         "mode": "markers",
         "name": "Depot",
         "type": "scatter",
         "x": [
          40
         ],
         "y": [
          50
         ]
        },
        {
         "legendgroup": "R1",
         "line": {
          "color": "#00FE35"
         },
         "mode": "lines",
         "type": "scatter",
         "x": [
          40,
          20
         ],
         "y": [
          50,
          82
         ]
        },
        {
         "legendgroup": "R1",
         "line": {
          "color": "#00FE35"
         },
         "mode": "lines",
         "type": "scatter",
         "x": [
          20,
          20
         ],
         "y": [
          82,
          85
         ]
        },
        {
         "legendgroup": "R1",
         "line": {
          "color": "#00FE35"
         },
         "mode": "lines",
         "type": "scatter",
         "x": [
          20,
          22
         ],
         "y": [
          85,
          75
         ]
        },
        {
         "legendgroup": "R1",
         "line": {
          "color": "#00FE35"
         },
         "mode": "lines",
         "type": "scatter",
         "x": [
          22,
          6
         ],
         "y": [
          75,
          68
         ]
        },
        {
         "legendgroup": "R1",
         "line": {
          "color": "#00FE35"
         },
         "mode": "lines",
         "type": "scatter",
         "x": [
          6,
          2
         ],
         "y": [
          68,
          60
         ]
        },
        {
         "legendgroup": "R1",
         "line": {
          "color": "#00FE35"
         },
         "mode": "lines",
         "type": "scatter",
         "x": [
          2,
          8
         ],
         "y": [
          60,
          56
         ]
        },
        {
         "legendgroup": "R1",
         "line": {
          "color": "#00FE35"
         },
         "mode": "lines",
         "type": "scatter",
         "x": [
          8,
          20
         ],
         "y": [
          56,
          50
         ]
        },
        {
         "legendgroup": "R1",
         "line": {
          "color": "#00FE35"
         },
         "mode": "lines",
         "type": "scatter",
         "x": [
          20,
          37
         ],
         "y": [
          50,
          47
         ]
        },
        {
         "legendgroup": "R1",
         "line": {
          "color": "#00FE35"
         },
         "mode": "lines",
         "type": "scatter",
         "x": [
          37,
          40
         ],
         "y": [
          47,
          50
         ]
        },
        {
         "legendgroup": "R1",
         "line": {
          "color": "#6A76FC"
         },
         "mode": "lines",
         "type": "scatter",
         "x": [
          40,
          65
         ],
         "y": [
          50,
          20
         ]
        },
        {
         "legendgroup": "R1",
         "line": {
          "color": "#6A76FC"
         },
         "mode": "lines",
         "type": "scatter",
         "x": [
          65,
          85
         ],
         "y": [
          20,
          25
         ]
        },
        {
         "legendgroup": "R1",
         "line": {
          "color": "#6A76FC"
         },
         "mode": "lines",
         "type": "scatter",
         "x": [
          85,
          92
         ],
         "y": [
          25,
          30
         ]
        },
        {
         "legendgroup": "R1",
         "line": {
          "color": "#6A76FC"
         },
         "mode": "lines",
         "type": "scatter",
         "x": [
          92,
          90
         ],
         "y": [
          30,
          35
         ]
        },
        {
         "legendgroup": "R1",
         "line": {
          "color": "#6A76FC"
         },
         "mode": "lines",
         "type": "scatter",
         "x": [
          90,
          95
         ],
         "y": [
          35,
          35
         ]
        },
        {
         "legendgroup": "R1",
         "line": {
          "color": "#6A76FC"
         },
         "mode": "lines",
         "type": "scatter",
         "x": [
          95,
          88
         ],
         "y": [
          35,
          30
         ]
        },
        {
         "legendgroup": "R1",
         "line": {
          "color": "#6A76FC"
         },
         "mode": "lines",
         "type": "scatter",
         "x": [
          88,
          88
         ],
         "y": [
          30,
          35
         ]
        },
        {
         "legendgroup": "R1",
         "line": {
          "color": "#6A76FC"
         },
         "mode": "lines",
         "type": "scatter",
         "x": [
          88,
          64
         ],
         "y": [
          35,
          42
         ]
        },
        {
         "legendgroup": "R1",
         "line": {
          "color": "#6A76FC"
         },
         "mode": "lines",
         "type": "scatter",
         "x": [
          64,
          57
         ],
         "y": [
          42,
          48
         ]
        },
        {
         "legendgroup": "R1",
         "line": {
          "color": "#6A76FC"
         },
         "mode": "lines",
         "type": "scatter",
         "x": [
          57,
          55
         ],
         "y": [
          48,
          54
         ]
        },
        {
         "legendgroup": "R1",
         "line": {
          "color": "#6A76FC"
         },
         "mode": "lines",
         "type": "scatter",
         "x": [
          55,
          40
         ],
         "y": [
          54,
          50
         ]
        },
        {
         "legendgroup": "R1",
         "line": {
          "color": "#FED4C4"
         },
         "mode": "lines",
         "type": "scatter",
         "x": [
          40,
          31
         ],
         "y": [
          50,
          52
         ]
        },
        {
         "legendgroup": "R1",
         "line": {
          "color": "#FED4C4"
         },
         "mode": "lines",
         "type": "scatter",
         "x": [
          31,
          26
         ],
         "y": [
          52,
          52
         ]
        },
        {
         "legendgroup": "R1",
         "line": {
          "color": "#FED4C4"
         },
         "mode": "lines",
         "type": "scatter",
         "x": [
          26,
          24
         ],
         "y": [
          52,
          58
         ]
        },
        {
         "legendgroup": "R1",
         "line": {
          "color": "#FED4C4"
         },
         "mode": "lines",
         "type": "scatter",
         "x": [
          24,
          18
         ],
         "y": [
          58,
          75
         ]
        },
        {
         "legendgroup": "R1",
         "line": {
          "color": "#FED4C4"
         },
         "mode": "lines",
         "type": "scatter",
         "x": [
          18,
          15
         ],
         "y": [
          75,
          75
         ]
        },
        {
         "legendgroup": "R1",
         "line": {
          "color": "#FED4C4"
         },
         "mode": "lines",
         "type": "scatter",
         "x": [
          15,
          15
         ],
         "y": [
          75,
          80
         ]
        },
        {
         "legendgroup": "R1",
         "line": {
          "color": "#FED4C4"
         },
         "mode": "lines",
         "type": "scatter",
         "x": [
          15,
          18
         ],
         "y": [
          80,
          80
         ]
        },
        {
         "legendgroup": "R1",
         "line": {
          "color": "#FED4C4"
         },
         "mode": "lines",
         "type": "scatter",
         "x": [
          18,
          22
         ],
         "y": [
          80,
          85
         ]
        },
        {
         "legendgroup": "R1",
         "line": {
          "color": "#FED4C4"
         },
         "mode": "lines",
         "type": "scatter",
         "x": [
          22,
          25
         ],
         "y": [
          85,
          85
         ]
        },
        {
         "legendgroup": "R1",
         "line": {
          "color": "#FED4C4"
         },
         "mode": "lines",
         "type": "scatter",
         "x": [
          25,
          20
         ],
         "y": [
          85,
          80
         ]
        },
        {
         "legendgroup": "R1",
         "line": {
          "color": "#FED4C4"
         },
         "mode": "lines",
         "type": "scatter",
         "x": [
          20,
          35
         ],
         "y": [
          80,
          69
         ]
        },
        {
         "legendgroup": "R1",
         "line": {
          "color": "#FED4C4"
         },
         "mode": "lines",
         "type": "scatter",
         "x": [
          35,
          31
         ],
         "y": [
          69,
          67
         ]
        },
        {
         "legendgroup": "R1",
         "line": {
          "color": "#FED4C4"
         },
         "mode": "lines",
         "type": "scatter",
         "x": [
          31,
          40
         ],
         "y": [
          67,
          50
         ]
        },
        {
         "legendgroup": "R1",
         "line": {
          "color": "#FE00CE"
         },
         "mode": "lines",
         "type": "scatter",
         "x": [
          40,
          55
         ],
         "y": [
          50,
          80
         ]
        },
        {
         "legendgroup": "R1",
         "line": {
          "color": "#FE00CE"
         },
         "mode": "lines",
         "type": "scatter",
         "x": [
          55,
          65
         ],
         "y": [
          80,
          85
         ]
        },
        {
         "legendgroup": "R1",
         "line": {
          "color": "#FE00CE"
         },
         "mode": "lines",
         "type": "scatter",
         "x": [
          65,
          60
         ],
         "y": [
          85,
          80
         ]
        },
        {
         "legendgroup": "R1",
         "line": {
          "color": "#FE00CE"
         },
         "mode": "lines",
         "type": "scatter",
         "x": [
          60,
          55
         ],
         "y": [
          80,
          82
         ]
        },
        {
         "legendgroup": "R1",
         "line": {
          "color": "#FE00CE"
         },
         "mode": "lines",
         "type": "scatter",
         "x": [
          55,
          58
         ],
         "y": [
          82,
          75
         ]
        },
        {
         "legendgroup": "R1",
         "line": {
          "color": "#FE00CE"
         },
         "mode": "lines",
         "type": "scatter",
         "x": [
          58,
          62
         ],
         "y": [
          75,
          80
         ]
        },
        {
         "legendgroup": "R1",
         "line": {
          "color": "#FE00CE"
         },
         "mode": "lines",
         "type": "scatter",
         "x": [
          62,
          60
         ],
         "y": [
          80,
          85
         ]
        },
        {
         "legendgroup": "R1",
         "line": {
          "color": "#FE00CE"
         },
         "mode": "lines",
         "type": "scatter",
         "x": [
          60,
          55
         ],
         "y": [
          85,
          85
         ]
        },
        {
         "legendgroup": "R1",
         "line": {
          "color": "#FE00CE"
         },
         "mode": "lines",
         "type": "scatter",
         "x": [
          55,
          65
         ],
         "y": [
          85,
          82
         ]
        },
        {
         "legendgroup": "R1",
         "line": {
          "color": "#FE00CE"
         },
         "mode": "lines",
         "type": "scatter",
         "x": [
          65,
          67
         ],
         "y": [
          82,
          85
         ]
        },
        {
         "legendgroup": "R1",
         "line": {
          "color": "#FE00CE"
         },
         "mode": "lines",
         "type": "scatter",
         "x": [
          67,
          55
         ],
         "y": [
          85,
          60
         ]
        },
        {
         "legendgroup": "R1",
         "line": {
          "color": "#FE00CE"
         },
         "mode": "lines",
         "type": "scatter",
         "x": [
          55,
          40
         ],
         "y": [
          60,
          50
         ]
        },
        {
         "legendgroup": "R1",
         "line": {
          "color": "#0DF9FF"
         },
         "mode": "lines",
         "type": "scatter",
         "x": [
          40,
          45
         ],
         "y": [
          50,
          65
         ]
        },
        {
         "legendgroup": "R1",
         "line": {
          "color": "#0DF9FF"
         },
         "mode": "lines",
         "type": "scatter",
         "x": [
          45,
          49
         ],
         "y": [
          65,
          58
         ]
        },
        {
         "legendgroup": "R1",
         "line": {
          "color": "#0DF9FF"
         },
         "mode": "lines",
         "type": "scatter",
         "x": [
          49,
          40
         ],
         "y": [
          58,
          60
         ]
        },
        {
         "legendgroup": "R1",
         "line": {
          "color": "#0DF9FF"
         },
         "mode": "lines",
         "type": "scatter",
         "x": [
          40,
          30
         ],
         "y": [
          60,
          60
         ]
        },
        {
         "legendgroup": "R1",
         "line": {
          "color": "#0DF9FF"
         },
         "mode": "lines",
         "type": "scatter",
         "x": [
          30,
          40
         ],
         "y": [
          60,
          50
         ]
        },
        {
         "legendgroup": "R1",
         "line": {
          "color": "#F6F926"
         },
         "mode": "lines",
         "type": "scatter",
         "x": [
          40,
          10
         ],
         "y": [
          50,
          20
         ]
        },
        {
         "legendgroup": "R1",
         "line": {
          "color": "#F6F926"
         },
         "mode": "lines",
         "type": "scatter",
         "x": [
          10,
          5
         ],
         "y": [
          20,
          5
         ]
        },
        {
         "legendgroup": "R1",
         "line": {
          "color": "#F6F926"
         },
         "mode": "lines",
         "type": "scatter",
         "x": [
          5,
          40
         ],
         "y": [
          5,
          15
         ]
        },
        {
         "legendgroup": "R1",
         "line": {
          "color": "#F6F926"
         },
         "mode": "lines",
         "type": "scatter",
         "x": [
          40,
          42
         ],
         "y": [
          15,
          15
         ]
        },
        {
         "legendgroup": "R1",
         "line": {
          "color": "#F6F926"
         },
         "mode": "lines",
         "type": "scatter",
         "x": [
          42,
          72
         ],
         "y": [
          15,
          35
         ]
        },
        {
         "legendgroup": "R1",
         "line": {
          "color": "#F6F926"
         },
         "mode": "lines",
         "type": "scatter",
         "x": [
          72,
          85
         ],
         "y": [
          35,
          35
         ]
        },
        {
         "legendgroup": "R1",
         "line": {
          "color": "#F6F926"
         },
         "mode": "lines",
         "type": "scatter",
         "x": [
          85,
          95
         ],
         "y": [
          35,
          30
         ]
        },
        {
         "legendgroup": "R1",
         "line": {
          "color": "#F6F926"
         },
         "mode": "lines",
         "type": "scatter",
         "x": [
          95,
          87
         ],
         "y": [
          30,
          30
         ]
        },
        {
         "legendgroup": "R1",
         "line": {
          "color": "#F6F926"
         },
         "mode": "lines",
         "type": "scatter",
         "x": [
          87,
          67
         ],
         "y": [
          30,
          5
         ]
        },
        {
         "legendgroup": "R1",
         "line": {
          "color": "#F6F926"
         },
         "mode": "lines",
         "type": "scatter",
         "x": [
          67,
          40
         ],
         "y": [
          5,
          50
         ]
        },
        {
         "legendgroup": "R1",
         "line": {
          "color": "#FF9616"
         },
         "mode": "lines",
         "type": "scatter",
         "x": [
          40,
          5
         ],
         "y": [
          50,
          45
         ]
        },
        {
         "legendgroup": "R1",
         "line": {
          "color": "#FF9616"
         },
         "mode": "lines",
         "type": "scatter",
         "x": [
          5,
          8
         ],
         "y": [
          45,
          40
         ]
        },
        {
         "legendgroup": "R1",
         "line": {
          "color": "#FF9616"
         },
         "mode": "lines",
         "type": "scatter",
         "x": [
          8,
          2
         ],
         "y": [
          40,
          45
         ]
        },
        {
         "legendgroup": "R1",
         "line": {
          "color": "#FF9616"
         },
         "mode": "lines",
         "type": "scatter",
         "x": [
          2,
          2
         ],
         "y": [
          45,
          40
         ]
        },
        {
         "legendgroup": "R1",
         "line": {
          "color": "#FF9616"
         },
         "mode": "lines",
         "type": "scatter",
         "x": [
          2,
          0
         ],
         "y": [
          40,
          40
         ]
        },
        {
         "legendgroup": "R1",
         "line": {
          "color": "#FF9616"
         },
         "mode": "lines",
         "type": "scatter",
         "x": [
          0,
          8
         ],
         "y": [
          40,
          45
         ]
        },
        {
         "legendgroup": "R1",
         "line": {
          "color": "#FF9616"
         },
         "mode": "lines",
         "type": "scatter",
         "x": [
          8,
          10
         ],
         "y": [
          45,
          35
         ]
        },
        {
         "legendgroup": "R1",
         "line": {
          "color": "#FF9616"
         },
         "mode": "lines",
         "type": "scatter",
         "x": [
          10,
          10
         ],
         "y": [
          35,
          40
         ]
        },
        {
         "legendgroup": "R1",
         "line": {
          "color": "#FF9616"
         },
         "mode": "lines",
         "type": "scatter",
         "x": [
          10,
          5
         ],
         "y": [
          40,
          35
         ]
        },
        {
         "legendgroup": "R1",
         "line": {
          "color": "#FF9616"
         },
         "mode": "lines",
         "type": "scatter",
         "x": [
          5,
          0
         ],
         "y": [
          35,
          45
         ]
        },
        {
         "legendgroup": "R1",
         "line": {
          "color": "#FF9616"
         },
         "mode": "lines",
         "type": "scatter",
         "x": [
          0,
          15
         ],
         "y": [
          45,
          60
         ]
        },
        {
         "legendgroup": "R1",
         "line": {
          "color": "#FF9616"
         },
         "mode": "lines",
         "type": "scatter",
         "x": [
          15,
          40
         ],
         "y": [
          60,
          50
         ]
        },
        {
         "legendgroup": "R1",
         "line": {
          "color": "#479B55"
         },
         "mode": "lines",
         "type": "scatter",
         "x": [
          40,
          35
         ],
         "y": [
          50,
          40
         ]
        },
        {
         "legendgroup": "R1",
         "line": {
          "color": "#479B55"
         },
         "mode": "lines",
         "type": "scatter",
         "x": [
          35,
          27
         ],
         "y": [
          40,
          43
         ]
        },
        {
         "legendgroup": "R1",
         "line": {
          "color": "#479B55"
         },
         "mode": "lines",
         "type": "scatter",
         "x": [
          27,
          25
         ],
         "y": [
          43,
          30
         ]
        },
        {
         "legendgroup": "R1",
         "line": {
          "color": "#479B55"
         },
         "mode": "lines",
         "type": "scatter",
         "x": [
          25,
          21
         ],
         "y": [
          30,
          24
         ]
        },
        {
         "legendgroup": "R1",
         "line": {
          "color": "#479B55"
         },
         "mode": "lines",
         "type": "scatter",
         "x": [
          21,
          12
         ],
         "y": [
          24,
          24
         ]
        },
        {
         "legendgroup": "R1",
         "line": {
          "color": "#479B55"
         },
         "mode": "lines",
         "type": "scatter",
         "x": [
          12,
          4
         ],
         "y": [
          24,
          18
         ]
        },
        {
         "legendgroup": "R1",
         "line": {
          "color": "#479B55"
         },
         "mode": "lines",
         "type": "scatter",
         "x": [
          4,
          20
         ],
         "y": [
          18,
          20
         ]
        },
        {
         "legendgroup": "R1",
         "line": {
          "color": "#479B55"
         },
         "mode": "lines",
         "type": "scatter",
         "x": [
          20,
          41
         ],
         "y": [
          20,
          37
         ]
        },
        {
         "legendgroup": "R1",
         "line": {
          "color": "#479B55"
         },
         "mode": "lines",
         "type": "scatter",
         "x": [
          41,
          40
         ],
         "y": [
          37,
          50
         ]
        },
        {
         "legendgroup": "R1",
         "line": {
          "color": "#EEA6FB"
         },
         "mode": "lines",
         "type": "scatter",
         "x": [
          40,
          53
         ],
         "y": [
          50,
          43
         ]
        },
        {
         "legendgroup": "R1",
         "line": {
          "color": "#EEA6FB"
         },
         "mode": "lines",
         "type": "scatter",
         "x": [
          53,
          56
         ],
         "y": [
          43,
          37
         ]
        },
        {
         "legendgroup": "R1",
         "line": {
          "color": "#EEA6FB"
         },
         "mode": "lines",
         "type": "scatter",
         "x": [
          56,
          65
         ],
         "y": [
          37,
          35
         ]
        },
        {
         "legendgroup": "R1",
         "line": {
          "color": "#EEA6FB"
         },
         "mode": "lines",
         "type": "scatter",
         "x": [
          65,
          42
         ],
         "y": [
          35,
          10
         ]
        },
        {
         "legendgroup": "R1",
         "line": {
          "color": "#EEA6FB"
         },
         "mode": "lines",
         "type": "scatter",
         "x": [
          42,
          38
         ],
         "y": [
          10,
          5
         ]
        },
        {
         "legendgroup": "R1",
         "line": {
          "color": "#EEA6FB"
         },
         "mode": "lines",
         "type": "scatter",
         "x": [
          38,
          40
         ],
         "y": [
          5,
          5
         ]
        },
        {
         "legendgroup": "R1",
         "line": {
          "color": "#EEA6FB"
         },
         "mode": "lines",
         "type": "scatter",
         "x": [
          40,
          44
         ],
         "y": [
          5,
          5
         ]
        },
        {
         "legendgroup": "R1",
         "line": {
          "color": "#EEA6FB"
         },
         "mode": "lines",
         "type": "scatter",
         "x": [
          44,
          60
         ],
         "y": [
          5,
          12
         ]
        },
        {
         "legendgroup": "R1",
         "line": {
          "color": "#EEA6FB"
         },
         "mode": "lines",
         "type": "scatter",
         "x": [
          60,
          63
         ],
         "y": [
          12,
          23
         ]
        },
        {
         "legendgroup": "R1",
         "line": {
          "color": "#EEA6FB"
         },
         "mode": "lines",
         "type": "scatter",
         "x": [
          63,
          55
         ],
         "y": [
          23,
          20
         ]
        },
        {
         "legendgroup": "R1",
         "line": {
          "color": "#EEA6FB"
         },
         "mode": "lines",
         "type": "scatter",
         "x": [
          55,
          57
         ],
         "y": [
          20,
          29
         ]
        },
        {
         "legendgroup": "R1",
         "line": {
          "color": "#EEA6FB"
         },
         "mode": "lines",
         "type": "scatter",
         "x": [
          57,
          50
         ],
         "y": [
          29,
          35
         ]
        },
        {
         "legendgroup": "R1",
         "line": {
          "color": "#EEA6FB"
         },
         "mode": "lines",
         "type": "scatter",
         "x": [
          50,
          40
         ],
         "y": [
          35,
          50
         ]
        },
        {
         "legendgroup": "R1",
         "line": {
          "color": "#DC587D"
         },
         "mode": "lines",
         "type": "scatter",
         "x": [
          40,
          63
         ],
         "y": [
          50,
          65
         ]
        },
        {
         "legendgroup": "R1",
         "line": {
          "color": "#DC587D"
         },
         "mode": "lines",
         "type": "scatter",
         "x": [
          63,
          65
         ],
         "y": [
          65,
          55
         ]
        },
        {
         "legendgroup": "R1",
         "line": {
          "color": "#DC587D"
         },
         "mode": "lines",
         "type": "scatter",
         "x": [
          65,
          61
         ],
         "y": [
          55,
          52
         ]
        },
        {
         "legendgroup": "R1",
         "line": {
          "color": "#DC587D"
         },
         "mode": "lines",
         "type": "scatter",
         "x": [
          61,
          49
         ],
         "y": [
          52,
          42
         ]
        },
        {
         "legendgroup": "R1",
         "line": {
          "color": "#DC587D"
         },
         "mode": "lines",
         "type": "scatter",
         "x": [
          49,
          47
         ],
         "y": [
          42,
          47
         ]
        },
        {
         "legendgroup": "R1",
         "line": {
          "color": "#DC587D"
         },
         "mode": "lines",
         "type": "scatter",
         "x": [
          47,
          40
         ],
         "y": [
          47,
          50
         ]
        },
        {
         "legendgroup": "R1",
         "line": {
          "color": "#D626FF"
         },
         "mode": "lines",
         "type": "scatter",
         "x": [
          40,
          45
         ],
         "y": [
          50,
          30
         ]
        },
        {
         "legendgroup": "R1",
         "line": {
          "color": "#D626FF"
         },
         "mode": "lines",
         "type": "scatter",
         "x": [
          45,
          37
         ],
         "y": [
          30,
          31
         ]
        },
        {
         "legendgroup": "R1",
         "line": {
          "color": "#D626FF"
         },
         "mode": "lines",
         "type": "scatter",
         "x": [
          37,
          26
         ],
         "y": [
          31,
          35
         ]
        },
        {
         "legendgroup": "R1",
         "line": {
          "color": "#D626FF"
         },
         "mode": "lines",
         "type": "scatter",
         "x": [
          26,
          30
         ],
         "y": [
          35,
          25
         ]
        },
        {
         "legendgroup": "R1",
         "line": {
          "color": "#D626FF"
         },
         "mode": "lines",
         "type": "scatter",
         "x": [
          30,
          42
         ],
         "y": [
          25,
          12
         ]
        },
        {
         "legendgroup": "R1",
         "line": {
          "color": "#D626FF"
         },
         "mode": "lines",
         "type": "scatter",
         "x": [
          42,
          42
         ],
         "y": [
          12,
          5
         ]
        },
        {
         "legendgroup": "R1",
         "line": {
          "color": "#D626FF"
         },
         "mode": "lines",
         "type": "scatter",
         "x": [
          42,
          38
         ],
         "y": [
          5,
          15
         ]
        },
        {
         "legendgroup": "R1",
         "line": {
          "color": "#D626FF"
         },
         "mode": "lines",
         "type": "scatter",
         "x": [
          38,
          35
         ],
         "y": [
          15,
          5
         ]
        },
        {
         "legendgroup": "R1",
         "line": {
          "color": "#D626FF"
         },
         "mode": "lines",
         "type": "scatter",
         "x": [
          35,
          23
         ],
         "y": [
          5,
          3
         ]
        },
        {
         "legendgroup": "R1",
         "line": {
          "color": "#D626FF"
         },
         "mode": "lines",
         "type": "scatter",
         "x": [
          23,
          15
         ],
         "y": [
          3,
          10
         ]
        },
        {
         "legendgroup": "R1",
         "line": {
          "color": "#D626FF"
         },
         "mode": "lines",
         "type": "scatter",
         "x": [
          15,
          40
         ],
         "y": [
          10,
          50
         ]
        }
       ],
       "layout": {
        "height": 600,
        "paper_bgcolor": "white",
        "plot_bgcolor": "white",
        "template": {
         "data": {
          "bar": [
           {
            "error_x": {
             "color": "#2a3f5f"
            },
            "error_y": {
             "color": "#2a3f5f"
            },
            "marker": {
             "line": {
              "color": "#E5ECF6",
              "width": 0.5
             },
             "pattern": {
              "fillmode": "overlay",
              "size": 10,
              "solidity": 0.2
             }
            },
            "type": "bar"
           }
          ],
          "barpolar": [
           {
            "marker": {
             "line": {
              "color": "#E5ECF6",
              "width": 0.5
             },
             "pattern": {
              "fillmode": "overlay",
              "size": 10,
              "solidity": 0.2
             }
            },
            "type": "barpolar"
           }
          ],
          "carpet": [
           {
            "aaxis": {
             "endlinecolor": "#2a3f5f",
             "gridcolor": "white",
             "linecolor": "white",
             "minorgridcolor": "white",
             "startlinecolor": "#2a3f5f"
            },
            "baxis": {
             "endlinecolor": "#2a3f5f",
             "gridcolor": "white",
             "linecolor": "white",
             "minorgridcolor": "white",
             "startlinecolor": "#2a3f5f"
            },
            "type": "carpet"
           }
          ],
          "choropleth": [
           {
            "colorbar": {
             "outlinewidth": 0,
             "ticks": ""
            },
            "type": "choropleth"
           }
          ],
          "contour": [
           {
            "colorbar": {
             "outlinewidth": 0,
             "ticks": ""
            },
            "colorscale": [
             [
              0,
              "#0d0887"
             ],
             [
              0.1111111111111111,
              "#46039f"
             ],
             [
              0.2222222222222222,
              "#7201a8"
             ],
             [
              0.3333333333333333,
              "#9c179e"
             ],
             [
              0.4444444444444444,
              "#bd3786"
             ],
             [
              0.5555555555555556,
              "#d8576b"
             ],
             [
              0.6666666666666666,
              "#ed7953"
             ],
             [
              0.7777777777777778,
              "#fb9f3a"
             ],
             [
              0.8888888888888888,
              "#fdca26"
             ],
             [
              1,
              "#f0f921"
             ]
            ],
            "type": "contour"
           }
          ],
          "contourcarpet": [
           {
            "colorbar": {
             "outlinewidth": 0,
             "ticks": ""
            },
            "type": "contourcarpet"
           }
          ],
          "heatmap": [
           {
            "colorbar": {
             "outlinewidth": 0,
             "ticks": ""
            },
            "colorscale": [
             [
              0,
              "#0d0887"
             ],
             [
              0.1111111111111111,
              "#46039f"
             ],
             [
              0.2222222222222222,
              "#7201a8"
             ],
             [
              0.3333333333333333,
              "#9c179e"
             ],
             [
              0.4444444444444444,
              "#bd3786"
             ],
             [
              0.5555555555555556,
              "#d8576b"
             ],
             [
              0.6666666666666666,
              "#ed7953"
             ],
             [
              0.7777777777777778,
              "#fb9f3a"
             ],
             [
              0.8888888888888888,
              "#fdca26"
             ],
             [
              1,
              "#f0f921"
             ]
            ],
            "type": "heatmap"
           }
          ],
          "heatmapgl": [
           {
            "colorbar": {
             "outlinewidth": 0,
             "ticks": ""
            },
            "colorscale": [
             [
              0,
              "#0d0887"
             ],
             [
              0.1111111111111111,
              "#46039f"
             ],
             [
              0.2222222222222222,
              "#7201a8"
             ],
             [
              0.3333333333333333,
              "#9c179e"
             ],
             [
              0.4444444444444444,
              "#bd3786"
             ],
             [
              0.5555555555555556,
              "#d8576b"
             ],
             [
              0.6666666666666666,
              "#ed7953"
             ],
             [
              0.7777777777777778,
              "#fb9f3a"
             ],
             [
              0.8888888888888888,
              "#fdca26"
             ],
             [
              1,
              "#f0f921"
             ]
            ],
            "type": "heatmapgl"
           }
          ],
          "histogram": [
           {
            "marker": {
             "pattern": {
              "fillmode": "overlay",
              "size": 10,
              "solidity": 0.2
             }
            },
            "type": "histogram"
           }
          ],
          "histogram2d": [
           {
            "colorbar": {
             "outlinewidth": 0,
             "ticks": ""
            },
            "colorscale": [
             [
              0,
              "#0d0887"
             ],
             [
              0.1111111111111111,
              "#46039f"
             ],
             [
              0.2222222222222222,
              "#7201a8"
             ],
             [
              0.3333333333333333,
              "#9c179e"
             ],
             [
              0.4444444444444444,
              "#bd3786"
             ],
             [
              0.5555555555555556,
              "#d8576b"
             ],
             [
              0.6666666666666666,
              "#ed7953"
             ],
             [
              0.7777777777777778,
              "#fb9f3a"
             ],
             [
              0.8888888888888888,
              "#fdca26"
             ],
             [
              1,
              "#f0f921"
             ]
            ],
            "type": "histogram2d"
           }
          ],
          "histogram2dcontour": [
           {
            "colorbar": {
             "outlinewidth": 0,
             "ticks": ""
            },
            "colorscale": [
             [
              0,
              "#0d0887"
             ],
             [
              0.1111111111111111,
              "#46039f"
             ],
             [
              0.2222222222222222,
              "#7201a8"
             ],
             [
              0.3333333333333333,
              "#9c179e"
             ],
             [
              0.4444444444444444,
              "#bd3786"
             ],
             [
              0.5555555555555556,
              "#d8576b"
             ],
             [
              0.6666666666666666,
              "#ed7953"
             ],
             [
              0.7777777777777778,
              "#fb9f3a"
             ],
             [
              0.8888888888888888,
              "#fdca26"
             ],
             [
              1,
              "#f0f921"
             ]
            ],
            "type": "histogram2dcontour"
           }
          ],
          "mesh3d": [
           {
            "colorbar": {
             "outlinewidth": 0,
             "ticks": ""
            },
            "type": "mesh3d"
           }
          ],
          "parcoords": [
           {
            "line": {
             "colorbar": {
              "outlinewidth": 0,
              "ticks": ""
             }
            },
            "type": "parcoords"
           }
          ],
          "pie": [
           {
            "automargin": true,
            "type": "pie"
           }
          ],
          "scatter": [
           {
            "fillpattern": {
             "fillmode": "overlay",
             "size": 10,
             "solidity": 0.2
            },
            "type": "scatter"
           }
          ],
          "scatter3d": [
           {
            "line": {
             "colorbar": {
              "outlinewidth": 0,
              "ticks": ""
             }
            },
            "marker": {
             "colorbar": {
              "outlinewidth": 0,
              "ticks": ""
             }
            },
            "type": "scatter3d"
           }
          ],
          "scattercarpet": [
           {
            "marker": {
             "colorbar": {
              "outlinewidth": 0,
              "ticks": ""
             }
            },
            "type": "scattercarpet"
           }
          ],
          "scattergeo": [
           {
            "marker": {
             "colorbar": {
              "outlinewidth": 0,
              "ticks": ""
             }
            },
            "type": "scattergeo"
           }
          ],
          "scattergl": [
           {
            "marker": {
             "colorbar": {
              "outlinewidth": 0,
              "ticks": ""
             }
            },
            "type": "scattergl"
           }
          ],
          "scattermapbox": [
           {
            "marker": {
             "colorbar": {
              "outlinewidth": 0,
              "ticks": ""
             }
            },
            "type": "scattermapbox"
           }
          ],
          "scatterpolar": [
           {
            "marker": {
             "colorbar": {
              "outlinewidth": 0,
              "ticks": ""
             }
            },
            "type": "scatterpolar"
           }
          ],
          "scatterpolargl": [
           {
            "marker": {
             "colorbar": {
              "outlinewidth": 0,
              "ticks": ""
             }
            },
            "type": "scatterpolargl"
           }
          ],
          "scatterternary": [
           {
            "marker": {
             "colorbar": {
              "outlinewidth": 0,
              "ticks": ""
             }
            },
            "type": "scatterternary"
           }
          ],
          "surface": [
           {
            "colorbar": {
             "outlinewidth": 0,
             "ticks": ""
            },
            "colorscale": [
             [
              0,
              "#0d0887"
             ],
             [
              0.1111111111111111,
              "#46039f"
             ],
             [
              0.2222222222222222,
              "#7201a8"
             ],
             [
              0.3333333333333333,
              "#9c179e"
             ],
             [
              0.4444444444444444,
              "#bd3786"
             ],
             [
              0.5555555555555556,
              "#d8576b"
             ],
             [
              0.6666666666666666,
              "#ed7953"
             ],
             [
              0.7777777777777778,
              "#fb9f3a"
             ],
             [
              0.8888888888888888,
              "#fdca26"
             ],
             [
              1,
              "#f0f921"
             ]
            ],
            "type": "surface"
           }
          ],
          "table": [
           {
            "cells": {
             "fill": {
              "color": "#EBF0F8"
             },
             "line": {
              "color": "white"
             }
            },
            "header": {
             "fill": {
              "color": "#C8D4E3"
             },
             "line": {
              "color": "white"
             }
            },
            "type": "table"
           }
          ]
         },
         "layout": {
          "annotationdefaults": {
           "arrowcolor": "#2a3f5f",
           "arrowhead": 0,
           "arrowwidth": 1
          },
          "autotypenumbers": "strict",
          "coloraxis": {
           "colorbar": {
            "outlinewidth": 0,
            "ticks": ""
           }
          },
          "colorscale": {
           "diverging": [
            [
             0,
             "#8e0152"
            ],
            [
             0.1,
             "#c51b7d"
            ],
            [
             0.2,
             "#de77ae"
            ],
            [
             0.3,
             "#f1b6da"
            ],
            [
             0.4,
             "#fde0ef"
            ],
            [
             0.5,
             "#f7f7f7"
            ],
            [
             0.6,
             "#e6f5d0"
            ],
            [
             0.7,
             "#b8e186"
            ],
            [
             0.8,
             "#7fbc41"
            ],
            [
             0.9,
             "#4d9221"
            ],
            [
             1,
             "#276419"
            ]
           ],
           "sequential": [
            [
             0,
             "#0d0887"
            ],
            [
             0.1111111111111111,
             "#46039f"
            ],
            [
             0.2222222222222222,
             "#7201a8"
            ],
            [
             0.3333333333333333,
             "#9c179e"
            ],
            [
             0.4444444444444444,
             "#bd3786"
            ],
            [
             0.5555555555555556,
             "#d8576b"
            ],
            [
             0.6666666666666666,
             "#ed7953"
            ],
            [
             0.7777777777777778,
             "#fb9f3a"
            ],
            [
             0.8888888888888888,
             "#fdca26"
            ],
            [
             1,
             "#f0f921"
            ]
           ],
           "sequentialminus": [
            [
             0,
             "#0d0887"
            ],
            [
             0.1111111111111111,
             "#46039f"
            ],
            [
             0.2222222222222222,
             "#7201a8"
            ],
            [
             0.3333333333333333,
             "#9c179e"
            ],
            [
             0.4444444444444444,
             "#bd3786"
            ],
            [
             0.5555555555555556,
             "#d8576b"
            ],
            [
             0.6666666666666666,
             "#ed7953"
            ],
            [
             0.7777777777777778,
             "#fb9f3a"
            ],
            [
             0.8888888888888888,
             "#fdca26"
            ],
            [
             1,
             "#f0f921"
            ]
           ]
          },
          "colorway": [
           "#636efa",
           "#EF553B",
           "#00cc96",
           "#ab63fa",
           "#FFA15A",
           "#19d3f3",
           "#FF6692",
           "#B6E880",
           "#FF97FF",
           "#FECB52"
          ],
          "font": {
           "color": "#2a3f5f"
          },
          "geo": {
           "bgcolor": "white",
           "lakecolor": "white",
           "landcolor": "#E5ECF6",
           "showlakes": true,
           "showland": true,
           "subunitcolor": "white"
          },
          "hoverlabel": {
           "align": "left"
          },
          "hovermode": "closest",
          "mapbox": {
           "style": "light"
          },
          "paper_bgcolor": "white",
          "plot_bgcolor": "#E5ECF6",
          "polar": {
           "angularaxis": {
            "gridcolor": "white",
            "linecolor": "white",
            "ticks": ""
           },
           "bgcolor": "#E5ECF6",
           "radialaxis": {
            "gridcolor": "white",
            "linecolor": "white",
            "ticks": ""
           }
          },
          "scene": {
           "xaxis": {
            "backgroundcolor": "#E5ECF6",
            "gridcolor": "white",
            "gridwidth": 2,
            "linecolor": "white",
            "showbackground": true,
            "ticks": "",
            "zerolinecolor": "white"
           },
           "yaxis": {
            "backgroundcolor": "#E5ECF6",
            "gridcolor": "white",
            "gridwidth": 2,
            "linecolor": "white",
            "showbackground": true,
            "ticks": "",
            "zerolinecolor": "white"
           },
           "zaxis": {
            "backgroundcolor": "#E5ECF6",
            "gridcolor": "white",
            "gridwidth": 2,
            "linecolor": "white",
            "showbackground": true,
            "ticks": "",
            "zerolinecolor": "white"
           }
          },
          "shapedefaults": {
           "line": {
            "color": "#2a3f5f"
           }
          },
          "ternary": {
           "aaxis": {
            "gridcolor": "white",
            "linecolor": "white",
            "ticks": ""
           },
           "baxis": {
            "gridcolor": "white",
            "linecolor": "white",
            "ticks": ""
           },
           "bgcolor": "#E5ECF6",
           "caxis": {
            "gridcolor": "white",
            "linecolor": "white",
            "ticks": ""
           }
          },
          "title": {
           "x": 0.05
          },
          "xaxis": {
           "automargin": true,
           "gridcolor": "white",
           "linecolor": "white",
           "ticks": "",
           "title": {
            "standoff": 15
           },
           "zerolinecolor": "white",
           "zerolinewidth": 2
          },
          "yaxis": {
           "automargin": true,
           "gridcolor": "white",
           "linecolor": "white",
           "ticks": "",
           "title": {
            "standoff": 15
           },
           "zerolinecolor": "white",
           "zerolinewidth": 2
          }
         }
        },
        "title": {
         "text": "Top 6 Solution of Instance 9 with Fitness=1475.68, Time Unfitness=0.00, Strain Unfitness=0.00"
        },
        "xaxis": {
         "title": {
          "text": "X Coordinate"
         }
        },
        "yaxis": {
         "title": {
          "text": "Y Coordinate"
         }
        }
       }
      }
     },
     "metadata": {},
     "output_type": "display_data"
    }
   ],
   "source": [
    "import plotly.express as px\n",
    "import plotly.graph_objects as go\n",
    "from itertools import cycle\n",
    "\n",
    "solution_nr = 10\n",
    "chromosome = sorted(chromosomes, key=lambda x: (x['time_unfitness'], x['strain_unfitness'], x['fitness']))[solution_nr]\n",
    "\n",
    "depot_x, depot_y = depot['x_coord'], depot['y_coord']\n",
    "x_coords, y_coords = zip(*[(patient['x_coord'], patient['y_coord']) for patient in patients.values()])\n",
    "\n",
    "patient_hover_texts = [f\"Patient {pid}:<br>Location: ({patient['x_coord']}, {patient['y_coord']})<br>Time Window: [{patient['start_time']}, {patient['end_time']}]<br>Visited by nurse {chromosome['genotype'][int(pid)-1]}\" \n",
    "                       for pid, patient in patients.items()]\n",
    "\n",
    "# Create a scatter plot for patients\n",
    "patients_scatter = go.Scatter(x=x_coords, y=y_coords, mode='markers', marker=dict(symbol='circle', color='darkgrey'), name='Patients', text=patient_hover_texts, hoverinfo='text')\n",
    "\n",
    "\n",
    "# Create a scatter plot for the depot\n",
    "depot_scatter = go.Scatter(x=[depot_x], y=[depot_y], mode='markers', marker=dict(symbol='square', color='black'), name='Depot')\n",
    "\n",
    "\n",
    "# Create the figure and add the scatter plots\n",
    "fig = go.Figure()\n",
    "fig.add_trace(patients_scatter)\n",
    "fig.add_trace(depot_scatter)\n",
    "from itertools import cycle\n",
    "\n",
    "# Generate a list of distinct colors\n",
    "num_routes = 25  # Or however many routes you have\n",
    "\n",
    "\n",
    "colors = px.colors.qualitative.Light24\n",
    "colors.append('#1CA71C')\n",
    "colors.append('#FFA500')\n",
    "colors = iter(cycle(colors))\n",
    "# Current color\n",
    "\n",
    "color_ind = 1\n",
    "\n",
    "\n",
    "\n",
    "color = next(colors)\n",
    "for start, end in chromosome['arcs']:\n",
    "    if (start[0] == depot_x and start[1] == depot_y):  # Start at the depot\n",
    "        color = next(colors)  # Change color for the new route\n",
    "    fig.add_trace(go.Scatter(x=[start[0], end[0]], y=[start[1], end[1]], mode='lines', line=dict(color=color), legendgroup=f'R{color_ind}'))\n",
    "\n",
    "# Set axis labels\n",
    "fig.update_layout(\n",
    "    xaxis_title='X Coordinate', \n",
    "    yaxis_title='Y Coordinate', \n",
    "    title=f\"Top {solution_nr+1} Solution of Instance {instance} with Fitness={chromosome['fitness']:.2f}, Time Unfitness={chromosome['time_unfitness']:.2f}, Strain Unfitness={chromosome['strain_unfitness']:.2f}\", \n",
    "    plot_bgcolor='white', \n",
    "    paper_bgcolor='white',\n",
    "    height=600,\n",
    ")\n",
    "\n",
    "# Show the plot\n",
    "fig.show()"
   ]
  },
  {
   "cell_type": "code",
   "execution_count": 3,
   "metadata": {},
   "outputs": [
    {
     "name": "stdout",
     "output_type": "stream",
     "text": [
      "((5, 45), (2, 40))\n",
      "((2, 40), (8, 40))\n"
     ]
    }
   ],
   "source": [
    "for arc in arcs:\n",
    "    if (2, 40) in arc:\n",
    "        print(arc)"
   ]
  },
  {
   "cell_type": "code",
   "execution_count": 4,
   "metadata": {},
   "outputs": [],
   "source": [
    "colors = px.colors.qualitative.Light24\n"
   ]
  },
  {
   "cell_type": "code",
   "execution_count": 5,
   "metadata": {},
   "outputs": [
    {
     "data": {
      "text/plain": [
       "'#FD3216'"
      ]
     },
     "execution_count": 5,
     "metadata": {},
     "output_type": "execute_result"
    }
   ],
   "source": [
    "colors[0]"
   ]
  },
  {
   "cell_type": "code",
   "execution_count": 6,
   "metadata": {},
   "outputs": [
    {
     "data": {
      "text/plain": [
       "[((40, 50), (22, 75)),\n",
       " ((22, 75), (6, 68)),\n",
       " ((6, 68), (20, 85)),\n",
       " ((20, 85), (15, 60)),\n",
       " ((15, 60), (8, 56)),\n",
       " ((8, 56), (2, 60)),\n",
       " ((2, 60), (30, 60)),\n",
       " ((30, 60), (20, 82)),\n",
       " ((20, 82), (35, 69)),\n",
       " ((35, 69), (40, 50)),\n",
       " ((40, 50), (56, 37)),\n",
       " ((56, 37), (95, 35)),\n",
       " ((95, 35), (85, 25)),\n",
       " ((85, 25), (90, 35)),\n",
       " ((90, 35), (88, 35)),\n",
       " ((88, 35), (92, 30)),\n",
       " ((92, 30), (65, 35)),\n",
       " ((65, 35), (64, 42)),\n",
       " ((64, 42), (88, 30)),\n",
       " ((88, 30), (57, 48)),\n",
       " ((57, 48), (47, 47)),\n",
       " ((47, 47), (40, 50)),\n",
       " ((40, 50), (20, 50)),\n",
       " ((20, 50), (15, 75)),\n",
       " ((15, 75), (18, 80)),\n",
       " ((18, 80), (24, 58)),\n",
       " ((24, 58), (18, 75)),\n",
       " ((18, 75), (26, 52)),\n",
       " ((26, 52), (25, 85)),\n",
       " ((25, 85), (15, 80)),\n",
       " ((15, 80), (22, 85)),\n",
       " ((22, 85), (31, 67)),\n",
       " ((31, 67), (20, 80)),\n",
       " ((20, 80), (40, 50)),\n",
       " ((40, 50), (65, 85)),\n",
       " ((65, 85), (60, 80)),\n",
       " ((60, 80), (55, 80)),\n",
       " ((55, 80), (55, 82)),\n",
       " ((55, 82), (62, 80)),\n",
       " ((62, 80), (58, 75)),\n",
       " ((58, 75), (60, 85)),\n",
       " ((60, 85), (55, 85)),\n",
       " ((55, 85), (40, 60)),\n",
       " ((40, 60), (65, 82)),\n",
       " ((65, 82), (67, 85)),\n",
       " ((67, 85), (40, 50)),\n",
       " ((40, 50), (37, 47)),\n",
       " ((37, 47), (40, 50)),\n",
       " ((40, 50), (63, 23)),\n",
       " ((63, 23), (5, 5)),\n",
       " ((5, 5), (67, 5)),\n",
       " ((67, 5), (10, 20)),\n",
       " ((10, 20), (95, 30)),\n",
       " ((95, 30), (85, 35)),\n",
       " ((85, 35), (87, 30)),\n",
       " ((87, 30), (55, 20)),\n",
       " ((55, 20), (72, 35)),\n",
       " ((72, 35), (40, 50)),\n",
       " ((40, 50), (2, 45)),\n",
       " ((2, 45), (5, 45)),\n",
       " ((5, 45), (2, 40)),\n",
       " ((2, 40), (8, 40)),\n",
       " ((8, 40), (0, 40)),\n",
       " ((0, 40), (8, 45)),\n",
       " ((8, 45), (10, 35)),\n",
       " ((10, 35), (10, 40)),\n",
       " ((10, 40), (0, 45)),\n",
       " ((0, 45), (5, 35)),\n",
       " ((5, 35), (40, 50)),\n",
       " ((40, 50), (25, 30)),\n",
       " ((25, 30), (21, 24)),\n",
       " ((21, 24), (30, 25)),\n",
       " ((30, 25), (12, 24)),\n",
       " ((12, 24), (4, 18)),\n",
       " ((4, 18), (20, 20)),\n",
       " ((20, 20), (40, 50)),\n",
       " ((40, 50), (65, 20)),\n",
       " ((65, 20), (42, 10)),\n",
       " ((42, 10), (40, 5)),\n",
       " ((40, 5), (38, 5)),\n",
       " ((38, 5), (44, 5)),\n",
       " ((44, 5), (60, 12)),\n",
       " ((60, 12), (57, 29)),\n",
       " ((57, 29), (50, 35)),\n",
       " ((50, 35), (40, 50)),\n",
       " ((40, 50), (63, 65)),\n",
       " ((63, 65), (53, 43)),\n",
       " ((53, 43), (65, 55)),\n",
       " ((65, 55), (45, 65)),\n",
       " ((45, 65), (49, 58)),\n",
       " ((49, 58), (55, 54)),\n",
       " ((55, 54), (55, 60)),\n",
       " ((55, 60), (61, 52)),\n",
       " ((61, 52), (40, 50)),\n",
       " ((40, 50), (31, 52)),\n",
       " ((31, 52), (27, 43)),\n",
       " ((27, 43), (26, 35)),\n",
       " ((26, 35), (41, 37)),\n",
       " ((41, 37), (49, 42)),\n",
       " ((49, 42), (40, 50)),\n",
       " ((40, 50), (37, 31)),\n",
       " ((37, 31), (35, 40)),\n",
       " ((35, 40), (45, 30)),\n",
       " ((45, 30), (40, 15)),\n",
       " ((40, 15), (42, 12)),\n",
       " ((42, 12), (42, 15)),\n",
       " ((42, 15), (38, 15)),\n",
       " ((38, 15), (42, 5)),\n",
       " ((42, 5), (23, 3)),\n",
       " ((23, 3), (35, 5)),\n",
       " ((35, 5), (15, 10)),\n",
       " ((15, 10), (40, 50))]"
      ]
     },
     "execution_count": 6,
     "metadata": {},
     "output_type": "execute_result"
    }
   ],
   "source": [
    "arcs"
   ]
  },
  {
   "cell_type": "code",
   "execution_count": 7,
   "metadata": {},
   "outputs": [
    {
     "ename": "TypeError",
     "evalue": "list indices must be integers or slices, not str",
     "output_type": "error",
     "traceback": [
      "\u001b[0;31m---------------------------------------------------------------------------\u001b[0m",
      "\u001b[0;31mTypeError\u001b[0m                                 Traceback (most recent call last)",
      "Cell \u001b[0;32mIn[7], line 1\u001b[0m\n\u001b[0;32m----> 1\u001b[0m \u001b[43mdata\u001b[49m\u001b[43m[\u001b[49m\u001b[38;5;124;43m'\u001b[39;49m\u001b[38;5;124;43mgenotype\u001b[39;49m\u001b[38;5;124;43m'\u001b[39;49m\u001b[43m]\u001b[49m\n",
      "\u001b[0;31mTypeError\u001b[0m: list indices must be integers or slices, not str"
     ]
    }
   ],
   "source": [
    "data['genotype']"
   ]
  },
  {
   "cell_type": "code",
   "execution_count": null,
   "metadata": {},
   "outputs": [],
   "source": []
  }
 ],
 "metadata": {
  "kernelspec": {
   "display_name": "bio",
   "language": "python",
   "name": "python3"
  },
  "language_info": {
   "codemirror_mode": {
    "name": "ipython",
    "version": 3
   },
   "file_extension": ".py",
   "mimetype": "text/x-python",
   "name": "python",
   "nbconvert_exporter": "python",
   "pygments_lexer": "ipython3",
   "version": "3.11.0"
  }
 },
 "nbformat": 4,
 "nbformat_minor": 2
}
