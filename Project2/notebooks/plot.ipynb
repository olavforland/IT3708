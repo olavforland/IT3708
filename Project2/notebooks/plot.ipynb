{
 "cells": [
  {
   "cell_type": "code",
   "execution_count": 1,
   "metadata": {},
   "outputs": [],
   "source": [
    "import json\n",
    "\n",
    "instance = 0\n",
    "\n",
    "filename = f'train_{instance}.json'\n",
    "\n",
    "with open('../data/' + filename, 'r') as file:\n",
    "    data = json.load(file)\n",
    "\n",
    "depot = data['depot']\n",
    "patients = data['patients']\n",
    "\n",
    "with open('../solutions/' + filename, 'r') as file:\n",
    "    data = json.load(file)\n",
    "\n",
    "solution = data['phenotype']\n",
    "fitness = data['fitness']\n",
    "time_unfitness = data['time_unfitness']\n",
    "strain_unfitness = data['strain_unfitness']\n",
    "\n",
    "# Create arcs\n",
    "visits = []\n",
    "for route in solution:\n",
    "    if len(route) == 0:\n",
    "        continue\n",
    "    visits.append(0)\n",
    "    visits.extend(route)\n",
    "visits.append(0)\n",
    "\n",
    "arcs = list(zip(visits[:-1], visits[1:]))\n",
    "\n",
    "def id_2_coords(id):\n",
    "    if id == 0:\n",
    "        return depot['x_coord'], depot['y_coord']\n",
    "    else:\n",
    "        return patients[str(id)]['x_coord'], patients[str(id)]['y_coord']\n",
    "    \n",
    "arcs = [(id_2_coords(a), id_2_coords(b)) for a, b in arcs]"
   ]
  },
  {
   "cell_type": "code",
   "execution_count": 2,
   "metadata": {},
   "outputs": [
    {
     "data": {
      "application/vnd.plotly.v1+json": {
       "config": {
        "plotlyServerURL": "https://plot.ly"
       },
       "data": [
        {
         "marker": {
          "color": "darkgrey",
          "symbol": "circle"
         },
         "mode": "markers",
         "name": "Patients",
         "type": "scatter",
         "x": [
          45,
          45,
          42,
          42,
          42,
          40,
          40,
          38,
          38,
          35,
          35,
          25,
          22,
          22,
          20,
          20,
          18,
          15,
          15,
          30,
          30,
          28,
          28,
          25,
          25,
          25,
          23,
          23,
          20,
          20,
          10,
          10,
          8,
          8,
          5,
          5,
          2,
          0,
          0,
          35,
          35,
          33,
          33,
          32,
          30,
          30,
          30,
          28,
          28,
          26,
          25,
          25,
          44,
          42,
          42,
          40,
          40,
          38,
          38,
          35,
          50,
          50,
          50,
          48,
          48,
          47,
          47,
          45,
          45,
          95,
          95,
          53,
          92,
          53,
          45,
          90,
          88,
          88,
          87,
          85,
          85,
          75,
          72,
          70,
          68,
          66,
          65,
          65,
          63,
          60,
          60,
          67,
          65,
          65,
          62,
          60,
          60,
          58,
          55,
          55
         ],
         "y": [
          68,
          70,
          66,
          68,
          65,
          69,
          66,
          68,
          70,
          66,
          69,
          85,
          75,
          85,
          80,
          85,
          75,
          75,
          80,
          50,
          52,
          52,
          55,
          50,
          52,
          55,
          52,
          55,
          50,
          55,
          35,
          40,
          40,
          45,
          35,
          45,
          40,
          40,
          45,
          30,
          32,
          32,
          35,
          30,
          30,
          32,
          35,
          30,
          35,
          32,
          30,
          35,
          5,
          10,
          15,
          5,
          15,
          5,
          15,
          5,
          30,
          35,
          40,
          30,
          40,
          35,
          40,
          30,
          35,
          30,
          35,
          30,
          30,
          35,
          65,
          35,
          30,
          35,
          30,
          25,
          35,
          55,
          55,
          58,
          60,
          55,
          55,
          60,
          58,
          55,
          60,
          85,
          85,
          82,
          80,
          80,
          85,
          75,
          80,
          85
         ]
        },
        {
         "marker": {
          "color": "black",
          "symbol": "square"
         },
         "mode": "markers",
         "name": "Depot",
         "type": "scatter",
         "x": [
          40
         ],
         "y": [
          50
         ]
        },
        {
         "legendgroup": "R2",
         "line": {
          "color": "#6A76FC"
         },
         "mode": "lines",
         "type": "scatter",
         "x": [
          40,
          47
         ],
         "y": [
          50,
          40
         ]
        },
        {
         "legendgroup": "R2",
         "line": {
          "color": "#6A76FC"
         },
         "mode": "lines",
         "type": "scatter",
         "x": [
          47,
          48
         ],
         "y": [
          40,
          40
         ]
        },
        {
         "legendgroup": "R2",
         "line": {
          "color": "#6A76FC"
         },
         "mode": "lines",
         "type": "scatter",
         "x": [
          48,
          42
         ],
         "y": [
          40,
          15
         ]
        },
        {
         "legendgroup": "R2",
         "line": {
          "color": "#6A76FC"
         },
         "mode": "lines",
         "type": "scatter",
         "x": [
          42,
          35
         ],
         "y": [
          15,
          30
         ]
        },
        {
         "legendgroup": "R2",
         "line": {
          "color": "#6A76FC"
         },
         "mode": "lines",
         "type": "scatter",
         "x": [
          35,
          53
         ],
         "y": [
          30,
          35
         ]
        },
        {
         "legendgroup": "R2",
         "line": {
          "color": "#6A76FC"
         },
         "mode": "lines",
         "type": "scatter",
         "x": [
          53,
          53
         ],
         "y": [
          35,
          30
         ]
        },
        {
         "legendgroup": "R2",
         "line": {
          "color": "#6A76FC"
         },
         "mode": "lines",
         "type": "scatter",
         "x": [
          53,
          50
         ],
         "y": [
          30,
          30
         ]
        },
        {
         "legendgroup": "R2",
         "line": {
          "color": "#6A76FC"
         },
         "mode": "lines",
         "type": "scatter",
         "x": [
          50,
          48
         ],
         "y": [
          30,
          30
         ]
        },
        {
         "legendgroup": "R2",
         "line": {
          "color": "#6A76FC"
         },
         "mode": "lines",
         "type": "scatter",
         "x": [
          48,
          45
         ],
         "y": [
          30,
          30
         ]
        },
        {
         "legendgroup": "R2",
         "line": {
          "color": "#6A76FC"
         },
         "mode": "lines",
         "type": "scatter",
         "x": [
          45,
          28
         ],
         "y": [
          30,
          52
         ]
        },
        {
         "legendgroup": "R2",
         "line": {
          "color": "#6A76FC"
         },
         "mode": "lines",
         "type": "scatter",
         "x": [
          28,
          30
         ],
         "y": [
          52,
          52
         ]
        },
        {
         "legendgroup": "R2",
         "line": {
          "color": "#6A76FC"
         },
         "mode": "lines",
         "type": "scatter",
         "x": [
          30,
          45
         ],
         "y": [
          52,
          65
         ]
        },
        {
         "legendgroup": "R2",
         "line": {
          "color": "#6A76FC"
         },
         "mode": "lines",
         "type": "scatter",
         "x": [
          45,
          40
         ],
         "y": [
          65,
          50
         ]
        },
        {
         "legendgroup": "R3",
         "line": {
          "color": "#FED4C4"
         },
         "mode": "lines",
         "type": "scatter",
         "x": [
          40,
          85
         ],
         "y": [
          50,
          35
         ]
        },
        {
         "legendgroup": "R3",
         "line": {
          "color": "#FED4C4"
         },
         "mode": "lines",
         "type": "scatter",
         "x": [
          85,
          50
         ],
         "y": [
          35,
          40
         ]
        },
        {
         "legendgroup": "R3",
         "line": {
          "color": "#FED4C4"
         },
         "mode": "lines",
         "type": "scatter",
         "x": [
          50,
          50
         ],
         "y": [
          40,
          35
         ]
        },
        {
         "legendgroup": "R3",
         "line": {
          "color": "#FED4C4"
         },
         "mode": "lines",
         "type": "scatter",
         "x": [
          50,
          44
         ],
         "y": [
          35,
          5
         ]
        },
        {
         "legendgroup": "R3",
         "line": {
          "color": "#FED4C4"
         },
         "mode": "lines",
         "type": "scatter",
         "x": [
          44,
          95
         ],
         "y": [
          5,
          30
         ]
        },
        {
         "legendgroup": "R3",
         "line": {
          "color": "#FED4C4"
         },
         "mode": "lines",
         "type": "scatter",
         "x": [
          95,
          92
         ],
         "y": [
          30,
          30
         ]
        },
        {
         "legendgroup": "R3",
         "line": {
          "color": "#FED4C4"
         },
         "mode": "lines",
         "type": "scatter",
         "x": [
          92,
          88
         ],
         "y": [
          30,
          30
         ]
        },
        {
         "legendgroup": "R3",
         "line": {
          "color": "#FED4C4"
         },
         "mode": "lines",
         "type": "scatter",
         "x": [
          88,
          87
         ],
         "y": [
          30,
          30
         ]
        },
        {
         "legendgroup": "R3",
         "line": {
          "color": "#FED4C4"
         },
         "mode": "lines",
         "type": "scatter",
         "x": [
          87,
          85
         ],
         "y": [
          30,
          25
         ]
        },
        {
         "legendgroup": "R3",
         "line": {
          "color": "#FED4C4"
         },
         "mode": "lines",
         "type": "scatter",
         "x": [
          85,
          40
         ],
         "y": [
          25,
          50
         ]
        },
        {
         "legendgroup": "R4",
         "line": {
          "color": "#FE00CE"
         },
         "mode": "lines",
         "type": "scatter",
         "x": [
          40,
          33
         ],
         "y": [
          50,
          35
         ]
        },
        {
         "legendgroup": "R4",
         "line": {
          "color": "#FE00CE"
         },
         "mode": "lines",
         "type": "scatter",
         "x": [
          33,
          88
         ],
         "y": [
          35,
          35
         ]
        },
        {
         "legendgroup": "R4",
         "line": {
          "color": "#FE00CE"
         },
         "mode": "lines",
         "type": "scatter",
         "x": [
          88,
          90
         ],
         "y": [
          35,
          35
         ]
        },
        {
         "legendgroup": "R4",
         "line": {
          "color": "#FE00CE"
         },
         "mode": "lines",
         "type": "scatter",
         "x": [
          90,
          95
         ],
         "y": [
          35,
          35
         ]
        },
        {
         "legendgroup": "R4",
         "line": {
          "color": "#FE00CE"
         },
         "mode": "lines",
         "type": "scatter",
         "x": [
          95,
          75
         ],
         "y": [
          35,
          55
         ]
        },
        {
         "legendgroup": "R4",
         "line": {
          "color": "#FE00CE"
         },
         "mode": "lines",
         "type": "scatter",
         "x": [
          75,
          22
         ],
         "y": [
          55,
          85
         ]
        },
        {
         "legendgroup": "R4",
         "line": {
          "color": "#FE00CE"
         },
         "mode": "lines",
         "type": "scatter",
         "x": [
          22,
          25
         ],
         "y": [
          85,
          55
         ]
        },
        {
         "legendgroup": "R4",
         "line": {
          "color": "#FE00CE"
         },
         "mode": "lines",
         "type": "scatter",
         "x": [
          25,
          28
         ],
         "y": [
          55,
          55
         ]
        },
        {
         "legendgroup": "R4",
         "line": {
          "color": "#FE00CE"
         },
         "mode": "lines",
         "type": "scatter",
         "x": [
          28,
          26
         ],
         "y": [
          55,
          32
         ]
        },
        {
         "legendgroup": "R4",
         "line": {
          "color": "#FE00CE"
         },
         "mode": "lines",
         "type": "scatter",
         "x": [
          26,
          40
         ],
         "y": [
          32,
          50
         ]
        },
        {
         "legendgroup": "R5",
         "line": {
          "color": "#0DF9FF"
         },
         "mode": "lines",
         "type": "scatter",
         "x": [
          40,
          60
         ],
         "y": [
          50,
          55
         ]
        },
        {
         "legendgroup": "R5",
         "line": {
          "color": "#0DF9FF"
         },
         "mode": "lines",
         "type": "scatter",
         "x": [
          60,
          65
         ],
         "y": [
          55,
          55
         ]
        },
        {
         "legendgroup": "R5",
         "line": {
          "color": "#0DF9FF"
         },
         "mode": "lines",
         "type": "scatter",
         "x": [
          65,
          66
         ],
         "y": [
          55,
          55
         ]
        },
        {
         "legendgroup": "R5",
         "line": {
          "color": "#0DF9FF"
         },
         "mode": "lines",
         "type": "scatter",
         "x": [
          66,
          62
         ],
         "y": [
          55,
          80
         ]
        },
        {
         "legendgroup": "R5",
         "line": {
          "color": "#0DF9FF"
         },
         "mode": "lines",
         "type": "scatter",
         "x": [
          62,
          67
         ],
         "y": [
          80,
          85
         ]
        },
        {
         "legendgroup": "R5",
         "line": {
          "color": "#0DF9FF"
         },
         "mode": "lines",
         "type": "scatter",
         "x": [
          67,
          70
         ],
         "y": [
          85,
          58
         ]
        },
        {
         "legendgroup": "R5",
         "line": {
          "color": "#0DF9FF"
         },
         "mode": "lines",
         "type": "scatter",
         "x": [
          70,
          68
         ],
         "y": [
          58,
          60
         ]
        },
        {
         "legendgroup": "R5",
         "line": {
          "color": "#0DF9FF"
         },
         "mode": "lines",
         "type": "scatter",
         "x": [
          68,
          42
         ],
         "y": [
          60,
          68
         ]
        },
        {
         "legendgroup": "R5",
         "line": {
          "color": "#0DF9FF"
         },
         "mode": "lines",
         "type": "scatter",
         "x": [
          42,
          60
         ],
         "y": [
          68,
          60
         ]
        },
        {
         "legendgroup": "R5",
         "line": {
          "color": "#0DF9FF"
         },
         "mode": "lines",
         "type": "scatter",
         "x": [
          60,
          45
         ],
         "y": [
          60,
          35
         ]
        },
        {
         "legendgroup": "R5",
         "line": {
          "color": "#0DF9FF"
         },
         "mode": "lines",
         "type": "scatter",
         "x": [
          45,
          28
         ],
         "y": [
          35,
          35
         ]
        },
        {
         "legendgroup": "R5",
         "line": {
          "color": "#0DF9FF"
         },
         "mode": "lines",
         "type": "scatter",
         "x": [
          28,
          40
         ],
         "y": [
          35,
          50
         ]
        },
        {
         "legendgroup": "R6",
         "line": {
          "color": "#F6F926"
         },
         "mode": "lines",
         "type": "scatter",
         "x": [
          40,
          42
         ],
         "y": [
          50,
          65
         ]
        },
        {
         "legendgroup": "R6",
         "line": {
          "color": "#F6F926"
         },
         "mode": "lines",
         "type": "scatter",
         "x": [
          42,
          60
         ],
         "y": [
          65,
          80
         ]
        },
        {
         "legendgroup": "R6",
         "line": {
          "color": "#F6F926"
         },
         "mode": "lines",
         "type": "scatter",
         "x": [
          60,
          72
         ],
         "y": [
          80,
          55
         ]
        },
        {
         "legendgroup": "R6",
         "line": {
          "color": "#F6F926"
         },
         "mode": "lines",
         "type": "scatter",
         "x": [
          72,
          65
         ],
         "y": [
          55,
          82
         ]
        },
        {
         "legendgroup": "R6",
         "line": {
          "color": "#F6F926"
         },
         "mode": "lines",
         "type": "scatter",
         "x": [
          65,
          65
         ],
         "y": [
          82,
          85
         ]
        },
        {
         "legendgroup": "R6",
         "line": {
          "color": "#F6F926"
         },
         "mode": "lines",
         "type": "scatter",
         "x": [
          65,
          60
         ],
         "y": [
          85,
          85
         ]
        },
        {
         "legendgroup": "R6",
         "line": {
          "color": "#F6F926"
         },
         "mode": "lines",
         "type": "scatter",
         "x": [
          60,
          65
         ],
         "y": [
          85,
          60
         ]
        },
        {
         "legendgroup": "R6",
         "line": {
          "color": "#F6F926"
         },
         "mode": "lines",
         "type": "scatter",
         "x": [
          65,
          55
         ],
         "y": [
          60,
          85
         ]
        },
        {
         "legendgroup": "R6",
         "line": {
          "color": "#F6F926"
         },
         "mode": "lines",
         "type": "scatter",
         "x": [
          55,
          45
         ],
         "y": [
          85,
          70
         ]
        },
        {
         "legendgroup": "R6",
         "line": {
          "color": "#F6F926"
         },
         "mode": "lines",
         "type": "scatter",
         "x": [
          45,
          40
         ],
         "y": [
          70,
          50
         ]
        },
        {
         "legendgroup": "R7",
         "line": {
          "color": "#FF9616"
         },
         "mode": "lines",
         "type": "scatter",
         "x": [
          40,
          58
         ],
         "y": [
          50,
          75
         ]
        },
        {
         "legendgroup": "R7",
         "line": {
          "color": "#FF9616"
         },
         "mode": "lines",
         "type": "scatter",
         "x": [
          58,
          42
         ],
         "y": [
          75,
          66
         ]
        },
        {
         "legendgroup": "R7",
         "line": {
          "color": "#FF9616"
         },
         "mode": "lines",
         "type": "scatter",
         "x": [
          42,
          40
         ],
         "y": [
          66,
          66
         ]
        },
        {
         "legendgroup": "R7",
         "line": {
          "color": "#FF9616"
         },
         "mode": "lines",
         "type": "scatter",
         "x": [
          40,
          38
         ],
         "y": [
          66,
          68
         ]
        },
        {
         "legendgroup": "R7",
         "line": {
          "color": "#FF9616"
         },
         "mode": "lines",
         "type": "scatter",
         "x": [
          38,
          35
         ],
         "y": [
          68,
          66
         ]
        },
        {
         "legendgroup": "R7",
         "line": {
          "color": "#FF9616"
         },
         "mode": "lines",
         "type": "scatter",
         "x": [
          35,
          20
         ],
         "y": [
          66,
          85
         ]
        },
        {
         "legendgroup": "R7",
         "line": {
          "color": "#FF9616"
         },
         "mode": "lines",
         "type": "scatter",
         "x": [
          20,
          23
         ],
         "y": [
          85,
          55
         ]
        },
        {
         "legendgroup": "R7",
         "line": {
          "color": "#FF9616"
         },
         "mode": "lines",
         "type": "scatter",
         "x": [
          23,
          25
         ],
         "y": [
          55,
          85
         ]
        },
        {
         "legendgroup": "R7",
         "line": {
          "color": "#FF9616"
         },
         "mode": "lines",
         "type": "scatter",
         "x": [
          25,
          55
         ],
         "y": [
          85,
          80
         ]
        },
        {
         "legendgroup": "R7",
         "line": {
          "color": "#FF9616"
         },
         "mode": "lines",
         "type": "scatter",
         "x": [
          55,
          25
         ],
         "y": [
          80,
          35
         ]
        },
        {
         "legendgroup": "R7",
         "line": {
          "color": "#FF9616"
         },
         "mode": "lines",
         "type": "scatter",
         "x": [
          25,
          40
         ],
         "y": [
          35,
          50
         ]
        },
        {
         "legendgroup": "R8",
         "line": {
          "color": "#479B55"
         },
         "mode": "lines",
         "type": "scatter",
         "x": [
          40,
          22
         ],
         "y": [
          50,
          75
         ]
        },
        {
         "legendgroup": "R8",
         "line": {
          "color": "#479B55"
         },
         "mode": "lines",
         "type": "scatter",
         "x": [
          22,
          18
         ],
         "y": [
          75,
          75
         ]
        },
        {
         "legendgroup": "R8",
         "line": {
          "color": "#479B55"
         },
         "mode": "lines",
         "type": "scatter",
         "x": [
          18,
          15
         ],
         "y": [
          75,
          75
         ]
        },
        {
         "legendgroup": "R8",
         "line": {
          "color": "#479B55"
         },
         "mode": "lines",
         "type": "scatter",
         "x": [
          15,
          15
         ],
         "y": [
          75,
          80
         ]
        },
        {
         "legendgroup": "R8",
         "line": {
          "color": "#479B55"
         },
         "mode": "lines",
         "type": "scatter",
         "x": [
          15,
          20
         ],
         "y": [
          80,
          80
         ]
        },
        {
         "legendgroup": "R8",
         "line": {
          "color": "#479B55"
         },
         "mode": "lines",
         "type": "scatter",
         "x": [
          20,
          20
         ],
         "y": [
          80,
          55
         ]
        },
        {
         "legendgroup": "R8",
         "line": {
          "color": "#479B55"
         },
         "mode": "lines",
         "type": "scatter",
         "x": [
          20,
          38
         ],
         "y": [
          55,
          70
         ]
        },
        {
         "legendgroup": "R8",
         "line": {
          "color": "#479B55"
         },
         "mode": "lines",
         "type": "scatter",
         "x": [
          38,
          40
         ],
         "y": [
          70,
          69
         ]
        },
        {
         "legendgroup": "R8",
         "line": {
          "color": "#479B55"
         },
         "mode": "lines",
         "type": "scatter",
         "x": [
          40,
          63
         ],
         "y": [
          69,
          58
         ]
        },
        {
         "legendgroup": "R8",
         "line": {
          "color": "#479B55"
         },
         "mode": "lines",
         "type": "scatter",
         "x": [
          63,
          47
         ],
         "y": [
          58,
          35
         ]
        },
        {
         "legendgroup": "R8",
         "line": {
          "color": "#479B55"
         },
         "mode": "lines",
         "type": "scatter",
         "x": [
          47,
          40
         ],
         "y": [
          35,
          50
         ]
        },
        {
         "legendgroup": "R9",
         "line": {
          "color": "#EEA6FB"
         },
         "mode": "lines",
         "type": "scatter",
         "x": [
          40,
          30
         ],
         "y": [
          50,
          50
         ]
        },
        {
         "legendgroup": "R9",
         "line": {
          "color": "#EEA6FB"
         },
         "mode": "lines",
         "type": "scatter",
         "x": [
          30,
          25
         ],
         "y": [
          50,
          50
         ]
        },
        {
         "legendgroup": "R9",
         "line": {
          "color": "#EEA6FB"
         },
         "mode": "lines",
         "type": "scatter",
         "x": [
          25,
          25
         ],
         "y": [
          50,
          52
         ]
        },
        {
         "legendgroup": "R9",
         "line": {
          "color": "#EEA6FB"
         },
         "mode": "lines",
         "type": "scatter",
         "x": [
          25,
          23
         ],
         "y": [
          52,
          52
         ]
        },
        {
         "legendgroup": "R9",
         "line": {
          "color": "#EEA6FB"
         },
         "mode": "lines",
         "type": "scatter",
         "x": [
          23,
          20
         ],
         "y": [
          52,
          50
         ]
        },
        {
         "legendgroup": "R9",
         "line": {
          "color": "#EEA6FB"
         },
         "mode": "lines",
         "type": "scatter",
         "x": [
          20,
          2
         ],
         "y": [
          50,
          40
         ]
        },
        {
         "legendgroup": "R9",
         "line": {
          "color": "#EEA6FB"
         },
         "mode": "lines",
         "type": "scatter",
         "x": [
          2,
          0
         ],
         "y": [
          40,
          40
         ]
        },
        {
         "legendgroup": "R9",
         "line": {
          "color": "#EEA6FB"
         },
         "mode": "lines",
         "type": "scatter",
         "x": [
          0,
          0
         ],
         "y": [
          40,
          45
         ]
        },
        {
         "legendgroup": "R9",
         "line": {
          "color": "#EEA6FB"
         },
         "mode": "lines",
         "type": "scatter",
         "x": [
          0,
          5
         ],
         "y": [
          45,
          45
         ]
        },
        {
         "legendgroup": "R9",
         "line": {
          "color": "#EEA6FB"
         },
         "mode": "lines",
         "type": "scatter",
         "x": [
          5,
          8
         ],
         "y": [
          45,
          45
         ]
        },
        {
         "legendgroup": "R9",
         "line": {
          "color": "#EEA6FB"
         },
         "mode": "lines",
         "type": "scatter",
         "x": [
          8,
          45
         ],
         "y": [
          45,
          68
         ]
        },
        {
         "legendgroup": "R9",
         "line": {
          "color": "#EEA6FB"
         },
         "mode": "lines",
         "type": "scatter",
         "x": [
          45,
          40
         ],
         "y": [
          68,
          50
         ]
        },
        {
         "legendgroup": "R10",
         "line": {
          "color": "#DC587D"
         },
         "mode": "lines",
         "type": "scatter",
         "x": [
          40,
          10
         ],
         "y": [
          50,
          40
         ]
        },
        {
         "legendgroup": "R10",
         "line": {
          "color": "#DC587D"
         },
         "mode": "lines",
         "type": "scatter",
         "x": [
          10,
          8
         ],
         "y": [
          40,
          40
         ]
        },
        {
         "legendgroup": "R10",
         "line": {
          "color": "#DC587D"
         },
         "mode": "lines",
         "type": "scatter",
         "x": [
          8,
          10
         ],
         "y": [
          40,
          35
         ]
        },
        {
         "legendgroup": "R10",
         "line": {
          "color": "#DC587D"
         },
         "mode": "lines",
         "type": "scatter",
         "x": [
          10,
          5
         ],
         "y": [
          35,
          35
         ]
        },
        {
         "legendgroup": "R10",
         "line": {
          "color": "#DC587D"
         },
         "mode": "lines",
         "type": "scatter",
         "x": [
          5,
          35
         ],
         "y": [
          35,
          69
         ]
        },
        {
         "legendgroup": "R10",
         "line": {
          "color": "#DC587D"
         },
         "mode": "lines",
         "type": "scatter",
         "x": [
          35,
          30
         ],
         "y": [
          69,
          32
         ]
        },
        {
         "legendgroup": "R10",
         "line": {
          "color": "#DC587D"
         },
         "mode": "lines",
         "type": "scatter",
         "x": [
          30,
          30
         ],
         "y": [
          32,
          30
         ]
        },
        {
         "legendgroup": "R10",
         "line": {
          "color": "#DC587D"
         },
         "mode": "lines",
         "type": "scatter",
         "x": [
          30,
          28
         ],
         "y": [
          30,
          30
         ]
        },
        {
         "legendgroup": "R10",
         "line": {
          "color": "#DC587D"
         },
         "mode": "lines",
         "type": "scatter",
         "x": [
          28,
          25
         ],
         "y": [
          30,
          30
         ]
        },
        {
         "legendgroup": "R10",
         "line": {
          "color": "#DC587D"
         },
         "mode": "lines",
         "type": "scatter",
         "x": [
          25,
          30
         ],
         "y": [
          30,
          35
         ]
        },
        {
         "legendgroup": "R10",
         "line": {
          "color": "#DC587D"
         },
         "mode": "lines",
         "type": "scatter",
         "x": [
          30,
          40
         ],
         "y": [
          35,
          50
         ]
        },
        {
         "legendgroup": "R11",
         "line": {
          "color": "#D626FF"
         },
         "mode": "lines",
         "type": "scatter",
         "x": [
          40,
          33
         ],
         "y": [
          50,
          32
         ]
        },
        {
         "legendgroup": "R11",
         "line": {
          "color": "#D626FF"
         },
         "mode": "lines",
         "type": "scatter",
         "x": [
          33,
          35
         ],
         "y": [
          32,
          32
         ]
        },
        {
         "legendgroup": "R11",
         "line": {
          "color": "#D626FF"
         },
         "mode": "lines",
         "type": "scatter",
         "x": [
          35,
          32
         ],
         "y": [
          32,
          30
         ]
        },
        {
         "legendgroup": "R11",
         "line": {
          "color": "#D626FF"
         },
         "mode": "lines",
         "type": "scatter",
         "x": [
          32,
          40
         ],
         "y": [
          30,
          5
         ]
        },
        {
         "legendgroup": "R11",
         "line": {
          "color": "#D626FF"
         },
         "mode": "lines",
         "type": "scatter",
         "x": [
          40,
          38
         ],
         "y": [
          5,
          5
         ]
        },
        {
         "legendgroup": "R11",
         "line": {
          "color": "#D626FF"
         },
         "mode": "lines",
         "type": "scatter",
         "x": [
          38,
          35
         ],
         "y": [
          5,
          5
         ]
        },
        {
         "legendgroup": "R11",
         "line": {
          "color": "#D626FF"
         },
         "mode": "lines",
         "type": "scatter",
         "x": [
          35,
          38
         ],
         "y": [
          5,
          15
         ]
        },
        {
         "legendgroup": "R11",
         "line": {
          "color": "#D626FF"
         },
         "mode": "lines",
         "type": "scatter",
         "x": [
          38,
          40
         ],
         "y": [
          15,
          50
         ]
        },
        {
         "legendgroup": "R12",
         "line": {
          "color": "#6E899C"
         },
         "mode": "lines",
         "type": "scatter",
         "x": [
          40,
          40
         ],
         "y": [
          50,
          15
         ]
        },
        {
         "legendgroup": "R12",
         "line": {
          "color": "#6E899C"
         },
         "mode": "lines",
         "type": "scatter",
         "x": [
          40,
          42
         ],
         "y": [
          15,
          10
         ]
        },
        {
         "legendgroup": "R12",
         "line": {
          "color": "#6E899C"
         },
         "mode": "lines",
         "type": "scatter",
         "x": [
          42,
          40
         ],
         "y": [
          10,
          50
         ]
        }
       ],
       "layout": {
        "height": 600,
        "paper_bgcolor": "white",
        "plot_bgcolor": "white",
        "template": {
         "data": {
          "bar": [
           {
            "error_x": {
             "color": "#2a3f5f"
            },
            "error_y": {
             "color": "#2a3f5f"
            },
            "marker": {
             "line": {
              "color": "#E5ECF6",
              "width": 0.5
             },
             "pattern": {
              "fillmode": "overlay",
              "size": 10,
              "solidity": 0.2
             }
            },
            "type": "bar"
           }
          ],
          "barpolar": [
           {
            "marker": {
             "line": {
              "color": "#E5ECF6",
              "width": 0.5
             },
             "pattern": {
              "fillmode": "overlay",
              "size": 10,
              "solidity": 0.2
             }
            },
            "type": "barpolar"
           }
          ],
          "carpet": [
           {
            "aaxis": {
             "endlinecolor": "#2a3f5f",
             "gridcolor": "white",
             "linecolor": "white",
             "minorgridcolor": "white",
             "startlinecolor": "#2a3f5f"
            },
            "baxis": {
             "endlinecolor": "#2a3f5f",
             "gridcolor": "white",
             "linecolor": "white",
             "minorgridcolor": "white",
             "startlinecolor": "#2a3f5f"
            },
            "type": "carpet"
           }
          ],
          "choropleth": [
           {
            "colorbar": {
             "outlinewidth": 0,
             "ticks": ""
            },
            "type": "choropleth"
           }
          ],
          "contour": [
           {
            "colorbar": {
             "outlinewidth": 0,
             "ticks": ""
            },
            "colorscale": [
             [
              0,
              "#0d0887"
             ],
             [
              0.1111111111111111,
              "#46039f"
             ],
             [
              0.2222222222222222,
              "#7201a8"
             ],
             [
              0.3333333333333333,
              "#9c179e"
             ],
             [
              0.4444444444444444,
              "#bd3786"
             ],
             [
              0.5555555555555556,
              "#d8576b"
             ],
             [
              0.6666666666666666,
              "#ed7953"
             ],
             [
              0.7777777777777778,
              "#fb9f3a"
             ],
             [
              0.8888888888888888,
              "#fdca26"
             ],
             [
              1,
              "#f0f921"
             ]
            ],
            "type": "contour"
           }
          ],
          "contourcarpet": [
           {
            "colorbar": {
             "outlinewidth": 0,
             "ticks": ""
            },
            "type": "contourcarpet"
           }
          ],
          "heatmap": [
           {
            "colorbar": {
             "outlinewidth": 0,
             "ticks": ""
            },
            "colorscale": [
             [
              0,
              "#0d0887"
             ],
             [
              0.1111111111111111,
              "#46039f"
             ],
             [
              0.2222222222222222,
              "#7201a8"
             ],
             [
              0.3333333333333333,
              "#9c179e"
             ],
             [
              0.4444444444444444,
              "#bd3786"
             ],
             [
              0.5555555555555556,
              "#d8576b"
             ],
             [
              0.6666666666666666,
              "#ed7953"
             ],
             [
              0.7777777777777778,
              "#fb9f3a"
             ],
             [
              0.8888888888888888,
              "#fdca26"
             ],
             [
              1,
              "#f0f921"
             ]
            ],
            "type": "heatmap"
           }
          ],
          "heatmapgl": [
           {
            "colorbar": {
             "outlinewidth": 0,
             "ticks": ""
            },
            "colorscale": [
             [
              0,
              "#0d0887"
             ],
             [
              0.1111111111111111,
              "#46039f"
             ],
             [
              0.2222222222222222,
              "#7201a8"
             ],
             [
              0.3333333333333333,
              "#9c179e"
             ],
             [
              0.4444444444444444,
              "#bd3786"
             ],
             [
              0.5555555555555556,
              "#d8576b"
             ],
             [
              0.6666666666666666,
              "#ed7953"
             ],
             [
              0.7777777777777778,
              "#fb9f3a"
             ],
             [
              0.8888888888888888,
              "#fdca26"
             ],
             [
              1,
              "#f0f921"
             ]
            ],
            "type": "heatmapgl"
           }
          ],
          "histogram": [
           {
            "marker": {
             "pattern": {
              "fillmode": "overlay",
              "size": 10,
              "solidity": 0.2
             }
            },
            "type": "histogram"
           }
          ],
          "histogram2d": [
           {
            "colorbar": {
             "outlinewidth": 0,
             "ticks": ""
            },
            "colorscale": [
             [
              0,
              "#0d0887"
             ],
             [
              0.1111111111111111,
              "#46039f"
             ],
             [
              0.2222222222222222,
              "#7201a8"
             ],
             [
              0.3333333333333333,
              "#9c179e"
             ],
             [
              0.4444444444444444,
              "#bd3786"
             ],
             [
              0.5555555555555556,
              "#d8576b"
             ],
             [
              0.6666666666666666,
              "#ed7953"
             ],
             [
              0.7777777777777778,
              "#fb9f3a"
             ],
             [
              0.8888888888888888,
              "#fdca26"
             ],
             [
              1,
              "#f0f921"
             ]
            ],
            "type": "histogram2d"
           }
          ],
          "histogram2dcontour": [
           {
            "colorbar": {
             "outlinewidth": 0,
             "ticks": ""
            },
            "colorscale": [
             [
              0,
              "#0d0887"
             ],
             [
              0.1111111111111111,
              "#46039f"
             ],
             [
              0.2222222222222222,
              "#7201a8"
             ],
             [
              0.3333333333333333,
              "#9c179e"
             ],
             [
              0.4444444444444444,
              "#bd3786"
             ],
             [
              0.5555555555555556,
              "#d8576b"
             ],
             [
              0.6666666666666666,
              "#ed7953"
             ],
             [
              0.7777777777777778,
              "#fb9f3a"
             ],
             [
              0.8888888888888888,
              "#fdca26"
             ],
             [
              1,
              "#f0f921"
             ]
            ],
            "type": "histogram2dcontour"
           }
          ],
          "mesh3d": [
           {
            "colorbar": {
             "outlinewidth": 0,
             "ticks": ""
            },
            "type": "mesh3d"
           }
          ],
          "parcoords": [
           {
            "line": {
             "colorbar": {
              "outlinewidth": 0,
              "ticks": ""
             }
            },
            "type": "parcoords"
           }
          ],
          "pie": [
           {
            "automargin": true,
            "type": "pie"
           }
          ],
          "scatter": [
           {
            "fillpattern": {
             "fillmode": "overlay",
             "size": 10,
             "solidity": 0.2
            },
            "type": "scatter"
           }
          ],
          "scatter3d": [
           {
            "line": {
             "colorbar": {
              "outlinewidth": 0,
              "ticks": ""
             }
            },
            "marker": {
             "colorbar": {
              "outlinewidth": 0,
              "ticks": ""
             }
            },
            "type": "scatter3d"
           }
          ],
          "scattercarpet": [
           {
            "marker": {
             "colorbar": {
              "outlinewidth": 0,
              "ticks": ""
             }
            },
            "type": "scattercarpet"
           }
          ],
          "scattergeo": [
           {
            "marker": {
             "colorbar": {
              "outlinewidth": 0,
              "ticks": ""
             }
            },
            "type": "scattergeo"
           }
          ],
          "scattergl": [
           {
            "marker": {
             "colorbar": {
              "outlinewidth": 0,
              "ticks": ""
             }
            },
            "type": "scattergl"
           }
          ],
          "scattermapbox": [
           {
            "marker": {
             "colorbar": {
              "outlinewidth": 0,
              "ticks": ""
             }
            },
            "type": "scattermapbox"
           }
          ],
          "scatterpolar": [
           {
            "marker": {
             "colorbar": {
              "outlinewidth": 0,
              "ticks": ""
             }
            },
            "type": "scatterpolar"
           }
          ],
          "scatterpolargl": [
           {
            "marker": {
             "colorbar": {
              "outlinewidth": 0,
              "ticks": ""
             }
            },
            "type": "scatterpolargl"
           }
          ],
          "scatterternary": [
           {
            "marker": {
             "colorbar": {
              "outlinewidth": 0,
              "ticks": ""
             }
            },
            "type": "scatterternary"
           }
          ],
          "surface": [
           {
            "colorbar": {
             "outlinewidth": 0,
             "ticks": ""
            },
            "colorscale": [
             [
              0,
              "#0d0887"
             ],
             [
              0.1111111111111111,
              "#46039f"
             ],
             [
              0.2222222222222222,
              "#7201a8"
             ],
             [
              0.3333333333333333,
              "#9c179e"
             ],
             [
              0.4444444444444444,
              "#bd3786"
             ],
             [
              0.5555555555555556,
              "#d8576b"
             ],
             [
              0.6666666666666666,
              "#ed7953"
             ],
             [
              0.7777777777777778,
              "#fb9f3a"
             ],
             [
              0.8888888888888888,
              "#fdca26"
             ],
             [
              1,
              "#f0f921"
             ]
            ],
            "type": "surface"
           }
          ],
          "table": [
           {
            "cells": {
             "fill": {
              "color": "#EBF0F8"
             },
             "line": {
              "color": "white"
             }
            },
            "header": {
             "fill": {
              "color": "#C8D4E3"
             },
             "line": {
              "color": "white"
             }
            },
            "type": "table"
           }
          ]
         },
         "layout": {
          "annotationdefaults": {
           "arrowcolor": "#2a3f5f",
           "arrowhead": 0,
           "arrowwidth": 1
          },
          "autotypenumbers": "strict",
          "coloraxis": {
           "colorbar": {
            "outlinewidth": 0,
            "ticks": ""
           }
          },
          "colorscale": {
           "diverging": [
            [
             0,
             "#8e0152"
            ],
            [
             0.1,
             "#c51b7d"
            ],
            [
             0.2,
             "#de77ae"
            ],
            [
             0.3,
             "#f1b6da"
            ],
            [
             0.4,
             "#fde0ef"
            ],
            [
             0.5,
             "#f7f7f7"
            ],
            [
             0.6,
             "#e6f5d0"
            ],
            [
             0.7,
             "#b8e186"
            ],
            [
             0.8,
             "#7fbc41"
            ],
            [
             0.9,
             "#4d9221"
            ],
            [
             1,
             "#276419"
            ]
           ],
           "sequential": [
            [
             0,
             "#0d0887"
            ],
            [
             0.1111111111111111,
             "#46039f"
            ],
            [
             0.2222222222222222,
             "#7201a8"
            ],
            [
             0.3333333333333333,
             "#9c179e"
            ],
            [
             0.4444444444444444,
             "#bd3786"
            ],
            [
             0.5555555555555556,
             "#d8576b"
            ],
            [
             0.6666666666666666,
             "#ed7953"
            ],
            [
             0.7777777777777778,
             "#fb9f3a"
            ],
            [
             0.8888888888888888,
             "#fdca26"
            ],
            [
             1,
             "#f0f921"
            ]
           ],
           "sequentialminus": [
            [
             0,
             "#0d0887"
            ],
            [
             0.1111111111111111,
             "#46039f"
            ],
            [
             0.2222222222222222,
             "#7201a8"
            ],
            [
             0.3333333333333333,
             "#9c179e"
            ],
            [
             0.4444444444444444,
             "#bd3786"
            ],
            [
             0.5555555555555556,
             "#d8576b"
            ],
            [
             0.6666666666666666,
             "#ed7953"
            ],
            [
             0.7777777777777778,
             "#fb9f3a"
            ],
            [
             0.8888888888888888,
             "#fdca26"
            ],
            [
             1,
             "#f0f921"
            ]
           ]
          },
          "colorway": [
           "#636efa",
           "#EF553B",
           "#00cc96",
           "#ab63fa",
           "#FFA15A",
           "#19d3f3",
           "#FF6692",
           "#B6E880",
           "#FF97FF",
           "#FECB52"
          ],
          "font": {
           "color": "#2a3f5f"
          },
          "geo": {
           "bgcolor": "white",
           "lakecolor": "white",
           "landcolor": "#E5ECF6",
           "showlakes": true,
           "showland": true,
           "subunitcolor": "white"
          },
          "hoverlabel": {
           "align": "left"
          },
          "hovermode": "closest",
          "mapbox": {
           "style": "light"
          },
          "paper_bgcolor": "white",
          "plot_bgcolor": "#E5ECF6",
          "polar": {
           "angularaxis": {
            "gridcolor": "white",
            "linecolor": "white",
            "ticks": ""
           },
           "bgcolor": "#E5ECF6",
           "radialaxis": {
            "gridcolor": "white",
            "linecolor": "white",
            "ticks": ""
           }
          },
          "scene": {
           "xaxis": {
            "backgroundcolor": "#E5ECF6",
            "gridcolor": "white",
            "gridwidth": 2,
            "linecolor": "white",
            "showbackground": true,
            "ticks": "",
            "zerolinecolor": "white"
           },
           "yaxis": {
            "backgroundcolor": "#E5ECF6",
            "gridcolor": "white",
            "gridwidth": 2,
            "linecolor": "white",
            "showbackground": true,
            "ticks": "",
            "zerolinecolor": "white"
           },
           "zaxis": {
            "backgroundcolor": "#E5ECF6",
            "gridcolor": "white",
            "gridwidth": 2,
            "linecolor": "white",
            "showbackground": true,
            "ticks": "",
            "zerolinecolor": "white"
           }
          },
          "shapedefaults": {
           "line": {
            "color": "#2a3f5f"
           }
          },
          "ternary": {
           "aaxis": {
            "gridcolor": "white",
            "linecolor": "white",
            "ticks": ""
           },
           "baxis": {
            "gridcolor": "white",
            "linecolor": "white",
            "ticks": ""
           },
           "bgcolor": "#E5ECF6",
           "caxis": {
            "gridcolor": "white",
            "linecolor": "white",
            "ticks": ""
           }
          },
          "title": {
           "x": 0.05
          },
          "xaxis": {
           "automargin": true,
           "gridcolor": "white",
           "linecolor": "white",
           "ticks": "",
           "title": {
            "standoff": 15
           },
           "zerolinecolor": "white",
           "zerolinewidth": 2
          },
          "yaxis": {
           "automargin": true,
           "gridcolor": "white",
           "linecolor": "white",
           "ticks": "",
           "title": {
            "standoff": 15
           },
           "zerolinecolor": "white",
           "zerolinewidth": 2
          }
         }
        },
        "title": {
         "text": "Instance 0 with Fitness=1911.55, Time Unfitness=0.00, Strain Unfitness=0.00"
        },
        "xaxis": {
         "title": {
          "text": "X Coordinate"
         }
        },
        "yaxis": {
         "title": {
          "text": "Y Coordinate"
         }
        }
       }
      }
     },
     "metadata": {},
     "output_type": "display_data"
    }
   ],
   "source": [
    "import plotly.graph_objects as go\n",
    "\n",
    "depot_x, depot_y = depot['x_coord'], depot['y_coord']\n",
    "x_coords, y_coords = zip(*[(patient['x_coord'], patient['y_coord']) for patient in patients.values()])\n",
    "\n",
    "# Create a scatter plot for patients\n",
    "patients_scatter = go.Scatter(x=x_coords, y=y_coords, mode='markers', marker=dict(symbol='circle', color='darkgrey'), name='Patients')\n",
    "\n",
    "# Create a scatter plot for the depot\n",
    "depot_scatter = go.Scatter(x=[depot_x], y=[depot_y], mode='markers', marker=dict(symbol='square', color='black'), name='Depot')\n",
    "\n",
    "\n",
    "# Create the figure and add the scatter plots\n",
    "fig = go.Figure()\n",
    "fig.add_trace(patients_scatter)\n",
    "fig.add_trace(depot_scatter)\n",
    "from itertools import cycle\n",
    "\n",
    "# Generate a list of distinct colors\n",
    "num_routes = 20  # Or however many routes you have\n",
    "import plotly.express as px\n",
    "colors = px.colors.qualitative.Light24\n",
    "\n",
    "# Current color\n",
    "\n",
    "color_ind = 1\n",
    "\n",
    "for start, end in arcs:\n",
    "    if (start[0] == depot_x and start[1] == depot_y):  # Start at the depot\n",
    "        color_ind += 1  # Change color for the new route\n",
    "\n",
    "    fig.add_trace(go.Scatter(x=[start[0], end[0]], y=[start[1], end[1]], mode='lines', line=dict(color=colors[color_ind]), legendgroup=f'R{color_ind}'))\n",
    "\n",
    "# Set axis labels\n",
    "fig.update_layout(\n",
    "    xaxis_title='X Coordinate', \n",
    "    yaxis_title='Y Coordinate', \n",
    "    title=f'Instance {instance} with Fitness={fitness:.2f}, Time Unfitness={time_unfitness:.2f}, Strain Unfitness={strain_unfitness:.2f}', \n",
    "    plot_bgcolor='white', \n",
    "    paper_bgcolor='white',\n",
    "    height=600,\n",
    ")\n",
    "\n",
    "# Show the plot\n",
    "fig.show()"
   ]
  },
  {
   "cell_type": "code",
   "execution_count": 3,
   "metadata": {},
   "outputs": [
    {
     "data": {
      "text/plain": [
       "11"
      ]
     },
     "execution_count": 3,
     "metadata": {},
     "output_type": "execute_result"
    }
   ],
   "source": [
    "sum(len(s) > 0 for s in solution)"
   ]
  },
  {
   "cell_type": "code",
   "execution_count": null,
   "metadata": {},
   "outputs": [],
   "source": []
  }
 ],
 "metadata": {
  "kernelspec": {
   "display_name": "bio",
   "language": "python",
   "name": "python3"
  },
  "language_info": {
   "codemirror_mode": {
    "name": "ipython",
    "version": 3
   },
   "file_extension": ".py",
   "mimetype": "text/x-python",
   "name": "python",
   "nbconvert_exporter": "python",
   "pygments_lexer": "ipython3",
   "version": "3.11.0"
  }
 },
 "nbformat": 4,
 "nbformat_minor": 2
}
