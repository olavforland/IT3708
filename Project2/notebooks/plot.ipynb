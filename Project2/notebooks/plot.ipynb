{
 "cells": [
  {
   "cell_type": "code",
   "execution_count": null,
   "metadata": {},
   "outputs": [],
   "source": [
    "import json\n",
    "\n",
    "file_path = '../data/train_0.json'\n",
    "\n",
    "with open(file_path, 'r') as file:\n",
    "    data = json.load(file)\n",
    "\n",
    "depot_x, depot_y = data['depot']['x_coord'], data['depot']['y_coord']\n",
    "x_coords, y_coords = zip(*[(patient['x_coord'], patient['y_coord']) for patient in data['patients'].values()])\n",
    "\n",
    "import matplotlib.pyplot as plt\n",
    "\n",
    "# Plot circles\n",
    "plt.scatter(x_coords, y_coords, marker='o')\n",
    "\n",
    "# Plot square\n",
    "plt.scatter(depot_x, depot_y, marker='s')\n",
    "\n",
    "# Set axis labels\n",
    "plt.xlabel('X Coordinate')\n",
    "plt.ylabel('Y Coordinate')\n",
    "\n",
    "# Show the plot\n",
    "plt.show()"
   ]
  },
  {
   "cell_type": "code",
   "execution_count": null,
   "metadata": {},
   "outputs": [],
   "source": []
  }
 ],
 "metadata": {
  "kernelspec": {
   "display_name": "bio",
   "language": "python",
   "name": "python3"
  },
  "language_info": {
   "codemirror_mode": {
    "name": "ipython",
    "version": 3
   },
   "file_extension": ".py",
   "mimetype": "text/x-python",
   "name": "python",
   "nbconvert_exporter": "python",
   "pygments_lexer": "ipython3",
   "version": "3.11.0"
  }
 },
 "nbformat": 4,
 "nbformat_minor": 2
}
