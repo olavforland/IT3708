{
 "cells": [
  {
   "cell_type": "code",
   "execution_count": 1,
   "metadata": {},
   "outputs": [],
   "source": [
    "import json\n",
    "\n",
    "instance = 0\n",
    "\n",
    "filename = f'train_{instance}.json'\n",
    "\n",
    "with open('../data/' + filename, 'r') as file:\n",
    "    data = json.load(file)\n",
    "\n",
    "depot = data['depot']\n",
    "patients = data['patients']\n",
    "\n",
    "with open('../solutions/' + filename, 'r') as file:\n",
    "    data = json.load(file)\n",
    "\n",
    "solution = data['phenotype']\n",
    "fitness = data['fitness']\n",
    "time_unfitness = data['time_unfitness']\n",
    "strain_unfitness = data['strain_unfitness']\n",
    "\n",
    "# Create arcs\n",
    "visits = []\n",
    "for route in solution:\n",
    "    if len(route) == 0:\n",
    "        continue\n",
    "    visits.append(0)\n",
    "    visits.extend(route)\n",
    "visits.append(0)\n",
    "\n",
    "arcs = list(zip(visits[:-1], visits[1:]))\n",
    "\n",
    "def id_2_coords(id):\n",
    "    if id == 0:\n",
    "        return depot['x_coord'], depot['y_coord']\n",
    "    else:\n",
    "        return patients[str(id)]['x_coord'], patients[str(id)]['y_coord']\n",
    "    \n",
    "arcs = [(id_2_coords(a), id_2_coords(b)) for a, b in arcs]"
   ]
  },
  {
   "cell_type": "code",
   "execution_count": 2,
   "metadata": {},
   "outputs": [
    {
     "data": {
      "application/vnd.plotly.v1+json": {
       "config": {
        "plotlyServerURL": "https://plot.ly"
       },
       "data": [
        {
         "hoverinfo": "text",
         "marker": {
          "color": "darkgrey",
          "symbol": "circle"
         },
         "mode": "markers",
         "name": "Patients",
         "text": [
          "Patient 1:<br>Location: (45, 68)<br>Time Window: [912, 1057]",
          "Patient 2:<br>Location: (45, 70)<br>Time Window: [825, 960]",
          "Patient 3:<br>Location: (42, 66)<br>Time Window: [65, 236]",
          "Patient 4:<br>Location: (42, 68)<br>Time Window: [727, 872]",
          "Patient 5:<br>Location: (42, 65)<br>Time Window: [15, 157]",
          "Patient 6:<br>Location: (40, 69)<br>Time Window: [621, 792]",
          "Patient 7:<br>Location: (40, 66)<br>Time Window: [170, 315]",
          "Patient 8:<br>Location: (38, 68)<br>Time Window: [255, 414]",
          "Patient 9:<br>Location: (38, 70)<br>Time Window: [534, 695]",
          "Patient 10:<br>Location: (35, 66)<br>Time Window: [357, 500]",
          "Patient 11:<br>Location: (35, 69)<br>Time Window: [448, 595]",
          "Patient 12:<br>Location: (25, 85)<br>Time Window: [652, 811]",
          "Patient 13:<br>Location: (22, 75)<br>Time Window: [30, 182]",
          "Patient 14:<br>Location: (22, 85)<br>Time Window: [567, 710]",
          "Patient 15:<br>Location: (20, 80)<br>Time Window: [384, 519]",
          "Patient 16:<br>Location: (20, 85)<br>Time Window: [475, 618]",
          "Patient 17:<br>Location: (18, 75)<br>Time Window: [99, 238]",
          "Patient 18:<br>Location: (15, 75)<br>Time Window: [179, 344]",
          "Patient 19:<br>Location: (15, 80)<br>Time Window: [278, 435]",
          "Patient 20:<br>Location: (30, 50)<br>Time Window: [10, 163]",
          "Patient 21:<br>Location: (30, 52)<br>Time Window: [914, 1055]",
          "Patient 22:<br>Location: (28, 52)<br>Time Window: [812, 973]",
          "Patient 23:<br>Location: (28, 55)<br>Time Window: [732, 867]",
          "Patient 24:<br>Location: (25, 50)<br>Time Window: [65, 234]",
          "Patient 25:<br>Location: (25, 52)<br>Time Window: [169, 314]",
          "Patient 26:<br>Location: (25, 55)<br>Time Window: [622, 791]",
          "Patient 27:<br>Location: (23, 52)<br>Time Window: [261, 406]",
          "Patient 28:<br>Location: (23, 55)<br>Time Window: [546, 683]",
          "Patient 29:<br>Location: (20, 50)<br>Time Window: [358, 495]",
          "Patient 30:<br>Location: (20, 55)<br>Time Window: [449, 594]",
          "Patient 31:<br>Location: (10, 35)<br>Time Window: [200, 327]",
          "Patient 32:<br>Location: (10, 40)<br>Time Window: [31, 190]",
          "Patient 33:<br>Location: (8, 40)<br>Time Window: [87, 248]",
          "Patient 34:<br>Location: (8, 45)<br>Time Window: [751, 906]",
          "Patient 35:<br>Location: (5, 35)<br>Time Window: [283, 434]",
          "Patient 36:<br>Location: (5, 45)<br>Time Window: [665, 806]",
          "Patient 37:<br>Location: (2, 40)<br>Time Window: [383, 524]",
          "Patient 38:<br>Location: (0, 40)<br>Time Window: [479, 612]",
          "Patient 39:<br>Location: (0, 45)<br>Time Window: [567, 714]",
          "Patient 40:<br>Location: (35, 30)<br>Time Window: [264, 411]",
          "Patient 41:<br>Location: (35, 32)<br>Time Window: [166, 325]",
          "Patient 42:<br>Location: (33, 32)<br>Time Window: [68, 239]",
          "Patient 43:<br>Location: (33, 35)<br>Time Window: [16, 170]",
          "Patient 44:<br>Location: (32, 30)<br>Time Window: [359, 502]",
          "Patient 45:<br>Location: (30, 30)<br>Time Window: [541, 690]",
          "Patient 46:<br>Location: (30, 32)<br>Time Window: [448, 599]",
          "Patient 47:<br>Location: (30, 35)<br>Time Window: [1054, 1217]",
          "Patient 48:<br>Location: (28, 30)<br>Time Window: [632, 783]",
          "Patient 49:<br>Location: (28, 35)<br>Time Window: [1001, 1156]",
          "Patient 50:<br>Location: (26, 32)<br>Time Window: [815, 970]",
          "Patient 51:<br>Location: (25, 30)<br>Time Window: [725, 876]",
          "Patient 52:<br>Location: (25, 35)<br>Time Window: [912, 1059]",
          "Patient 53:<br>Location: (44, 5)<br>Time Window: [286, 437]",
          "Patient 54:<br>Location: (42, 10)<br>Time Window: [186, 347]",
          "Patient 55:<br>Location: (42, 15)<br>Time Window: [95, 248]",
          "Patient 56:<br>Location: (40, 5)<br>Time Window: [385, 526]",
          "Patient 57:<br>Location: (40, 15)<br>Time Window: [35, 177]",
          "Patient 58:<br>Location: (38, 5)<br>Time Window: [471, 624]",
          "Patient 59:<br>Location: (38, 15)<br>Time Window: [651, 830]",
          "Patient 60:<br>Location: (35, 5)<br>Time Window: [562, 719]",
          "Patient 61:<br>Location: (50, 30)<br>Time Window: [531, 700]",
          "Patient 62:<br>Location: (50, 35)<br>Time Window: [262, 407]",
          "Patient 63:<br>Location: (50, 40)<br>Time Window: [171, 308]",
          "Patient 64:<br>Location: (48, 30)<br>Time Window: [632, 783]",
          "Patient 65:<br>Location: (48, 40)<br>Time Window: [76, 219]",
          "Patient 66:<br>Location: (47, 35)<br>Time Window: [826, 965]",
          "Patient 67:<br>Location: (47, 40)<br>Time Window: [12, 167]",
          "Patient 68:<br>Location: (45, 30)<br>Time Window: [734, 867]",
          "Patient 69:<br>Location: (45, 35)<br>Time Window: [916, 1059]",
          "Patient 70:<br>Location: (95, 30)<br>Time Window: [387, 546]",
          "Patient 71:<br>Location: (95, 35)<br>Time Window: [293, 450]",
          "Patient 72:<br>Location: (53, 30)<br>Time Window: [450, 595]",
          "Patient 73:<br>Location: (92, 30)<br>Time Window: [478, 641]",
          "Patient 74:<br>Location: (53, 35)<br>Time Window: [353, 502]",
          "Patient 75:<br>Location: (45, 65)<br>Time Window: [997, 1158]",
          "Patient 76:<br>Location: (90, 35)<br>Time Window: [203, 350]",
          "Patient 77:<br>Location: (88, 30)<br>Time Window: [574, 733]",
          "Patient 78:<br>Location: (88, 35)<br>Time Window: [109, 260]",
          "Patient 79:<br>Location: (87, 30)<br>Time Window: [668, 821]",
          "Patient 80:<br>Location: (85, 25)<br>Time Window: [769, 910]",
          "Patient 81:<br>Location: (85, 35)<br>Time Window: [47, 214]",
          "Patient 82:<br>Location: (75, 55)<br>Time Window: [369, 510]",
          "Patient 83:<br>Location: (72, 55)<br>Time Window: [265, 428]",
          "Patient 84:<br>Location: (70, 58)<br>Time Window: [458, 613]",
          "Patient 85:<br>Location: (68, 60)<br>Time Window: [555, 702]",
          "Patient 86:<br>Location: (66, 55)<br>Time Window: [173, 328]",
          "Patient 87:<br>Location: (65, 55)<br>Time Window: [85, 234]",
          "Patient 88:<br>Location: (65, 60)<br>Time Window: [645, 798]",
          "Patient 89:<br>Location: (63, 58)<br>Time Window: [737, 892]",
          "Patient 90:<br>Location: (60, 55)<br>Time Window: [20, 174]",
          "Patient 91:<br>Location: (60, 60)<br>Time Window: [836, 979]",
          "Patient 92:<br>Location: (67, 85)<br>Time Window: [368, 531]",
          "Patient 93:<br>Location: (65, 85)<br>Time Window: [475, 608]",
          "Patient 94:<br>Location: (65, 82)<br>Time Window: [285, 426]",
          "Patient 95:<br>Location: (62, 80)<br>Time Window: [196, 329]",
          "Patient 96:<br>Location: (60, 80)<br>Time Window: [95, 246]",
          "Patient 97:<br>Location: (60, 85)<br>Time Window: [561, 712]",
          "Patient 98:<br>Location: (58, 75)<br>Time Window: [30, 174]",
          "Patient 99:<br>Location: (55, 80)<br>Time Window: [743, 910]",
          "Patient 100:<br>Location: (55, 85)<br>Time Window: [647, 816]"
         ],
         "type": "scatter",
         "x": [
          45,
          45,
          42,
          42,
          42,
          40,
          40,
          38,
          38,
          35,
          35,
          25,
          22,
          22,
          20,
          20,
          18,
          15,
          15,
          30,
          30,
          28,
          28,
          25,
          25,
          25,
          23,
          23,
          20,
          20,
          10,
          10,
          8,
          8,
          5,
          5,
          2,
          0,
          0,
          35,
          35,
          33,
          33,
          32,
          30,
          30,
          30,
          28,
          28,
          26,
          25,
          25,
          44,
          42,
          42,
          40,
          40,
          38,
          38,
          35,
          50,
          50,
          50,
          48,
          48,
          47,
          47,
          45,
          45,
          95,
          95,
          53,
          92,
          53,
          45,
          90,
          88,
          88,
          87,
          85,
          85,
          75,
          72,
          70,
          68,
          66,
          65,
          65,
          63,
          60,
          60,
          67,
          65,
          65,
          62,
          60,
          60,
          58,
          55,
          55
         ],
         "y": [
          68,
          70,
          66,
          68,
          65,
          69,
          66,
          68,
          70,
          66,
          69,
          85,
          75,
          85,
          80,
          85,
          75,
          75,
          80,
          50,
          52,
          52,
          55,
          50,
          52,
          55,
          52,
          55,
          50,
          55,
          35,
          40,
          40,
          45,
          35,
          45,
          40,
          40,
          45,
          30,
          32,
          32,
          35,
          30,
          30,
          32,
          35,
          30,
          35,
          32,
          30,
          35,
          5,
          10,
          15,
          5,
          15,
          5,
          15,
          5,
          30,
          35,
          40,
          30,
          40,
          35,
          40,
          30,
          35,
          30,
          35,
          30,
          30,
          35,
          65,
          35,
          30,
          35,
          30,
          25,
          35,
          55,
          55,
          58,
          60,
          55,
          55,
          60,
          58,
          55,
          60,
          85,
          85,
          82,
          80,
          80,
          85,
          75,
          80,
          85
         ]
        },
        {
         "marker": {
          "color": "black",
          "symbol": "square"
         },
         "mode": "markers",
         "name": "Depot",
         "type": "scatter",
         "x": [
          40
         ],
         "y": [
          50
         ]
        },
        {
         "legendgroup": "R1",
         "line": {
          "color": "#00FE35"
         },
         "mode": "lines",
         "type": "scatter",
         "x": [
          40,
          22
         ],
         "y": [
          50,
          75
         ]
        },
        {
         "legendgroup": "R1",
         "line": {
          "color": "#00FE35"
         },
         "mode": "lines",
         "type": "scatter",
         "x": [
          22,
          18
         ],
         "y": [
          75,
          75
         ]
        },
        {
         "legendgroup": "R1",
         "line": {
          "color": "#00FE35"
         },
         "mode": "lines",
         "type": "scatter",
         "x": [
          18,
          15
         ],
         "y": [
          75,
          75
         ]
        },
        {
         "legendgroup": "R1",
         "line": {
          "color": "#00FE35"
         },
         "mode": "lines",
         "type": "scatter",
         "x": [
          15,
          15
         ],
         "y": [
          75,
          80
         ]
        },
        {
         "legendgroup": "R1",
         "line": {
          "color": "#00FE35"
         },
         "mode": "lines",
         "type": "scatter",
         "x": [
          15,
          20
         ],
         "y": [
          80,
          80
         ]
        },
        {
         "legendgroup": "R1",
         "line": {
          "color": "#00FE35"
         },
         "mode": "lines",
         "type": "scatter",
         "x": [
          20,
          23
         ],
         "y": [
          80,
          55
         ]
        },
        {
         "legendgroup": "R1",
         "line": {
          "color": "#00FE35"
         },
         "mode": "lines",
         "type": "scatter",
         "x": [
          23,
          22
         ],
         "y": [
          55,
          85
         ]
        },
        {
         "legendgroup": "R1",
         "line": {
          "color": "#00FE35"
         },
         "mode": "lines",
         "type": "scatter",
         "x": [
          22,
          20
         ],
         "y": [
          85,
          85
         ]
        },
        {
         "legendgroup": "R1",
         "line": {
          "color": "#00FE35"
         },
         "mode": "lines",
         "type": "scatter",
         "x": [
          20,
          25
         ],
         "y": [
          85,
          85
         ]
        },
        {
         "legendgroup": "R1",
         "line": {
          "color": "#00FE35"
         },
         "mode": "lines",
         "type": "scatter",
         "x": [
          25,
          25
         ],
         "y": [
          85,
          55
         ]
        },
        {
         "legendgroup": "R1",
         "line": {
          "color": "#00FE35"
         },
         "mode": "lines",
         "type": "scatter",
         "x": [
          25,
          28
         ],
         "y": [
          55,
          55
         ]
        },
        {
         "legendgroup": "R1",
         "line": {
          "color": "#00FE35"
         },
         "mode": "lines",
         "type": "scatter",
         "x": [
          28,
          40
         ],
         "y": [
          55,
          50
         ]
        },
        {
         "legendgroup": "R1",
         "line": {
          "color": "#6A76FC"
         },
         "mode": "lines",
         "type": "scatter",
         "x": [
          40,
          30
         ],
         "y": [
          50,
          50
         ]
        },
        {
         "legendgroup": "R1",
         "line": {
          "color": "#6A76FC"
         },
         "mode": "lines",
         "type": "scatter",
         "x": [
          30,
          23
         ],
         "y": [
          50,
          52
         ]
        },
        {
         "legendgroup": "R1",
         "line": {
          "color": "#6A76FC"
         },
         "mode": "lines",
         "type": "scatter",
         "x": [
          23,
          25
         ],
         "y": [
          52,
          52
         ]
        },
        {
         "legendgroup": "R1",
         "line": {
          "color": "#6A76FC"
         },
         "mode": "lines",
         "type": "scatter",
         "x": [
          25,
          20
         ],
         "y": [
          52,
          50
         ]
        },
        {
         "legendgroup": "R1",
         "line": {
          "color": "#6A76FC"
         },
         "mode": "lines",
         "type": "scatter",
         "x": [
          20,
          0
         ],
         "y": [
          50,
          45
         ]
        },
        {
         "legendgroup": "R1",
         "line": {
          "color": "#6A76FC"
         },
         "mode": "lines",
         "type": "scatter",
         "x": [
          0,
          5
         ],
         "y": [
          45,
          45
         ]
        },
        {
         "legendgroup": "R1",
         "line": {
          "color": "#6A76FC"
         },
         "mode": "lines",
         "type": "scatter",
         "x": [
          5,
          25
         ],
         "y": [
          45,
          50
         ]
        },
        {
         "legendgroup": "R1",
         "line": {
          "color": "#6A76FC"
         },
         "mode": "lines",
         "type": "scatter",
         "x": [
          25,
          8
         ],
         "y": [
          50,
          45
         ]
        },
        {
         "legendgroup": "R1",
         "line": {
          "color": "#6A76FC"
         },
         "mode": "lines",
         "type": "scatter",
         "x": [
          8,
          28
         ],
         "y": [
          45,
          52
         ]
        },
        {
         "legendgroup": "R1",
         "line": {
          "color": "#6A76FC"
         },
         "mode": "lines",
         "type": "scatter",
         "x": [
          28,
          20
         ],
         "y": [
          52,
          55
         ]
        },
        {
         "legendgroup": "R1",
         "line": {
          "color": "#6A76FC"
         },
         "mode": "lines",
         "type": "scatter",
         "x": [
          20,
          30
         ],
         "y": [
          55,
          52
         ]
        },
        {
         "legendgroup": "R1",
         "line": {
          "color": "#6A76FC"
         },
         "mode": "lines",
         "type": "scatter",
         "x": [
          30,
          40
         ],
         "y": [
          52,
          50
         ]
        },
        {
         "legendgroup": "R1",
         "line": {
          "color": "#FED4C4"
         },
         "mode": "lines",
         "type": "scatter",
         "x": [
          40,
          10
         ],
         "y": [
          50,
          40
         ]
        },
        {
         "legendgroup": "R1",
         "line": {
          "color": "#FED4C4"
         },
         "mode": "lines",
         "type": "scatter",
         "x": [
          10,
          8
         ],
         "y": [
          40,
          40
         ]
        },
        {
         "legendgroup": "R1",
         "line": {
          "color": "#FED4C4"
         },
         "mode": "lines",
         "type": "scatter",
         "x": [
          8,
          10
         ],
         "y": [
          40,
          35
         ]
        },
        {
         "legendgroup": "R1",
         "line": {
          "color": "#FED4C4"
         },
         "mode": "lines",
         "type": "scatter",
         "x": [
          10,
          5
         ],
         "y": [
          35,
          35
         ]
        },
        {
         "legendgroup": "R1",
         "line": {
          "color": "#FED4C4"
         },
         "mode": "lines",
         "type": "scatter",
         "x": [
          5,
          2
         ],
         "y": [
          35,
          40
         ]
        },
        {
         "legendgroup": "R1",
         "line": {
          "color": "#FED4C4"
         },
         "mode": "lines",
         "type": "scatter",
         "x": [
          2,
          0
         ],
         "y": [
          40,
          40
         ]
        },
        {
         "legendgroup": "R1",
         "line": {
          "color": "#FED4C4"
         },
         "mode": "lines",
         "type": "scatter",
         "x": [
          0,
          25
         ],
         "y": [
          40,
          30
         ]
        },
        {
         "legendgroup": "R1",
         "line": {
          "color": "#FED4C4"
         },
         "mode": "lines",
         "type": "scatter",
         "x": [
          25,
          26
         ],
         "y": [
          30,
          32
         ]
        },
        {
         "legendgroup": "R1",
         "line": {
          "color": "#FED4C4"
         },
         "mode": "lines",
         "type": "scatter",
         "x": [
          26,
          25
         ],
         "y": [
          32,
          35
         ]
        },
        {
         "legendgroup": "R1",
         "line": {
          "color": "#FED4C4"
         },
         "mode": "lines",
         "type": "scatter",
         "x": [
          25,
          28
         ],
         "y": [
          35,
          35
         ]
        },
        {
         "legendgroup": "R1",
         "line": {
          "color": "#FED4C4"
         },
         "mode": "lines",
         "type": "scatter",
         "x": [
          28,
          30
         ],
         "y": [
          35,
          35
         ]
        },
        {
         "legendgroup": "R1",
         "line": {
          "color": "#FED4C4"
         },
         "mode": "lines",
         "type": "scatter",
         "x": [
          30,
          40
         ],
         "y": [
          35,
          50
         ]
        },
        {
         "legendgroup": "R1",
         "line": {
          "color": "#FE00CE"
         },
         "mode": "lines",
         "type": "scatter",
         "x": [
          40,
          33
         ],
         "y": [
          50,
          35
         ]
        },
        {
         "legendgroup": "R1",
         "line": {
          "color": "#FE00CE"
         },
         "mode": "lines",
         "type": "scatter",
         "x": [
          33,
          35
         ],
         "y": [
          35,
          32
         ]
        },
        {
         "legendgroup": "R1",
         "line": {
          "color": "#FE00CE"
         },
         "mode": "lines",
         "type": "scatter",
         "x": [
          35,
          35
         ],
         "y": [
          32,
          30
         ]
        },
        {
         "legendgroup": "R1",
         "line": {
          "color": "#FE00CE"
         },
         "mode": "lines",
         "type": "scatter",
         "x": [
          35,
          32
         ],
         "y": [
          30,
          30
         ]
        },
        {
         "legendgroup": "R1",
         "line": {
          "color": "#FE00CE"
         },
         "mode": "lines",
         "type": "scatter",
         "x": [
          32,
          30
         ],
         "y": [
          30,
          30
         ]
        },
        {
         "legendgroup": "R1",
         "line": {
          "color": "#FE00CE"
         },
         "mode": "lines",
         "type": "scatter",
         "x": [
          30,
          35
         ],
         "y": [
          30,
          5
         ]
        },
        {
         "legendgroup": "R1",
         "line": {
          "color": "#FE00CE"
         },
         "mode": "lines",
         "type": "scatter",
         "x": [
          35,
          30
         ],
         "y": [
          5,
          32
         ]
        },
        {
         "legendgroup": "R1",
         "line": {
          "color": "#FE00CE"
         },
         "mode": "lines",
         "type": "scatter",
         "x": [
          30,
          33
         ],
         "y": [
          32,
          32
         ]
        },
        {
         "legendgroup": "R1",
         "line": {
          "color": "#FE00CE"
         },
         "mode": "lines",
         "type": "scatter",
         "x": [
          33,
          38
         ],
         "y": [
          32,
          5
         ]
        },
        {
         "legendgroup": "R1",
         "line": {
          "color": "#FE00CE"
         },
         "mode": "lines",
         "type": "scatter",
         "x": [
          38,
          28
         ],
         "y": [
          5,
          30
         ]
        },
        {
         "legendgroup": "R1",
         "line": {
          "color": "#FE00CE"
         },
         "mode": "lines",
         "type": "scatter",
         "x": [
          28,
          38
         ],
         "y": [
          30,
          15
         ]
        },
        {
         "legendgroup": "R1",
         "line": {
          "color": "#FE00CE"
         },
         "mode": "lines",
         "type": "scatter",
         "x": [
          38,
          40
         ],
         "y": [
          15,
          50
         ]
        },
        {
         "legendgroup": "R1",
         "line": {
          "color": "#0DF9FF"
         },
         "mode": "lines",
         "type": "scatter",
         "x": [
          40,
          40
         ],
         "y": [
          50,
          15
         ]
        },
        {
         "legendgroup": "R1",
         "line": {
          "color": "#0DF9FF"
         },
         "mode": "lines",
         "type": "scatter",
         "x": [
          40,
          50
         ],
         "y": [
          15,
          35
         ]
        },
        {
         "legendgroup": "R1",
         "line": {
          "color": "#0DF9FF"
         },
         "mode": "lines",
         "type": "scatter",
         "x": [
          50,
          42
         ],
         "y": [
          35,
          15
         ]
        },
        {
         "legendgroup": "R1",
         "line": {
          "color": "#0DF9FF"
         },
         "mode": "lines",
         "type": "scatter",
         "x": [
          42,
          40
         ],
         "y": [
          15,
          5
         ]
        },
        {
         "legendgroup": "R1",
         "line": {
          "color": "#0DF9FF"
         },
         "mode": "lines",
         "type": "scatter",
         "x": [
          40,
          44
         ],
         "y": [
          5,
          5
         ]
        },
        {
         "legendgroup": "R1",
         "line": {
          "color": "#0DF9FF"
         },
         "mode": "lines",
         "type": "scatter",
         "x": [
          44,
          53
         ],
         "y": [
          5,
          30
         ]
        },
        {
         "legendgroup": "R1",
         "line": {
          "color": "#0DF9FF"
         },
         "mode": "lines",
         "type": "scatter",
         "x": [
          53,
          48
         ],
         "y": [
          30,
          30
         ]
        },
        {
         "legendgroup": "R1",
         "line": {
          "color": "#0DF9FF"
         },
         "mode": "lines",
         "type": "scatter",
         "x": [
          48,
          50
         ],
         "y": [
          30,
          30
         ]
        },
        {
         "legendgroup": "R1",
         "line": {
          "color": "#0DF9FF"
         },
         "mode": "lines",
         "type": "scatter",
         "x": [
          50,
          45
         ],
         "y": [
          30,
          30
         ]
        },
        {
         "legendgroup": "R1",
         "line": {
          "color": "#0DF9FF"
         },
         "mode": "lines",
         "type": "scatter",
         "x": [
          45,
          42
         ],
         "y": [
          30,
          10
         ]
        },
        {
         "legendgroup": "R1",
         "line": {
          "color": "#0DF9FF"
         },
         "mode": "lines",
         "type": "scatter",
         "x": [
          42,
          47
         ],
         "y": [
          10,
          35
         ]
        },
        {
         "legendgroup": "R1",
         "line": {
          "color": "#0DF9FF"
         },
         "mode": "lines",
         "type": "scatter",
         "x": [
          47,
          45
         ],
         "y": [
          35,
          35
         ]
        },
        {
         "legendgroup": "R1",
         "line": {
          "color": "#0DF9FF"
         },
         "mode": "lines",
         "type": "scatter",
         "x": [
          45,
          40
         ],
         "y": [
          35,
          50
         ]
        },
        {
         "legendgroup": "R1",
         "line": {
          "color": "#F6F926"
         },
         "mode": "lines",
         "type": "scatter",
         "x": [
          40,
          85
         ],
         "y": [
          50,
          35
         ]
        },
        {
         "legendgroup": "R1",
         "line": {
          "color": "#F6F926"
         },
         "mode": "lines",
         "type": "scatter",
         "x": [
          85,
          48
         ],
         "y": [
          35,
          40
         ]
        },
        {
         "legendgroup": "R1",
         "line": {
          "color": "#F6F926"
         },
         "mode": "lines",
         "type": "scatter",
         "x": [
          48,
          88
         ],
         "y": [
          40,
          35
         ]
        },
        {
         "legendgroup": "R1",
         "line": {
          "color": "#F6F926"
         },
         "mode": "lines",
         "type": "scatter",
         "x": [
          88,
          47
         ],
         "y": [
          35,
          40
         ]
        },
        {
         "legendgroup": "R1",
         "line": {
          "color": "#F6F926"
         },
         "mode": "lines",
         "type": "scatter",
         "x": [
          47,
          53
         ],
         "y": [
          40,
          35
         ]
        },
        {
         "legendgroup": "R1",
         "line": {
          "color": "#F6F926"
         },
         "mode": "lines",
         "type": "scatter",
         "x": [
          53,
          95
         ],
         "y": [
          35,
          30
         ]
        },
        {
         "legendgroup": "R1",
         "line": {
          "color": "#F6F926"
         },
         "mode": "lines",
         "type": "scatter",
         "x": [
          95,
          50
         ],
         "y": [
          30,
          40
         ]
        },
        {
         "legendgroup": "R1",
         "line": {
          "color": "#F6F926"
         },
         "mode": "lines",
         "type": "scatter",
         "x": [
          50,
          92
         ],
         "y": [
          40,
          30
         ]
        },
        {
         "legendgroup": "R1",
         "line": {
          "color": "#F6F926"
         },
         "mode": "lines",
         "type": "scatter",
         "x": [
          92,
          87
         ],
         "y": [
          30,
          30
         ]
        },
        {
         "legendgroup": "R1",
         "line": {
          "color": "#F6F926"
         },
         "mode": "lines",
         "type": "scatter",
         "x": [
          87,
          88
         ],
         "y": [
          30,
          30
         ]
        },
        {
         "legendgroup": "R1",
         "line": {
          "color": "#F6F926"
         },
         "mode": "lines",
         "type": "scatter",
         "x": [
          88,
          85
         ],
         "y": [
          30,
          25
         ]
        },
        {
         "legendgroup": "R1",
         "line": {
          "color": "#F6F926"
         },
         "mode": "lines",
         "type": "scatter",
         "x": [
          85,
          40
         ],
         "y": [
          25,
          50
         ]
        },
        {
         "legendgroup": "R1",
         "line": {
          "color": "#FF9616"
         },
         "mode": "lines",
         "type": "scatter",
         "x": [
          40,
          60
         ],
         "y": [
          50,
          55
         ]
        },
        {
         "legendgroup": "R1",
         "line": {
          "color": "#FF9616"
         },
         "mode": "lines",
         "type": "scatter",
         "x": [
          60,
          65
         ],
         "y": [
          55,
          55
         ]
        },
        {
         "legendgroup": "R1",
         "line": {
          "color": "#FF9616"
         },
         "mode": "lines",
         "type": "scatter",
         "x": [
          65,
          90
         ],
         "y": [
          55,
          35
         ]
        },
        {
         "legendgroup": "R1",
         "line": {
          "color": "#FF9616"
         },
         "mode": "lines",
         "type": "scatter",
         "x": [
          90,
          66
         ],
         "y": [
          35,
          55
         ]
        },
        {
         "legendgroup": "R1",
         "line": {
          "color": "#FF9616"
         },
         "mode": "lines",
         "type": "scatter",
         "x": [
          66,
          75
         ],
         "y": [
          55,
          55
         ]
        },
        {
         "legendgroup": "R1",
         "line": {
          "color": "#FF9616"
         },
         "mode": "lines",
         "type": "scatter",
         "x": [
          75,
          72
         ],
         "y": [
          55,
          55
         ]
        },
        {
         "legendgroup": "R1",
         "line": {
          "color": "#FF9616"
         },
         "mode": "lines",
         "type": "scatter",
         "x": [
          72,
          95
         ],
         "y": [
          55,
          35
         ]
        },
        {
         "legendgroup": "R1",
         "line": {
          "color": "#FF9616"
         },
         "mode": "lines",
         "type": "scatter",
         "x": [
          95,
          68
         ],
         "y": [
          35,
          60
         ]
        },
        {
         "legendgroup": "R1",
         "line": {
          "color": "#FF9616"
         },
         "mode": "lines",
         "type": "scatter",
         "x": [
          68,
          65
         ],
         "y": [
          60,
          60
         ]
        },
        {
         "legendgroup": "R1",
         "line": {
          "color": "#FF9616"
         },
         "mode": "lines",
         "type": "scatter",
         "x": [
          65,
          70
         ],
         "y": [
          60,
          58
         ]
        },
        {
         "legendgroup": "R1",
         "line": {
          "color": "#FF9616"
         },
         "mode": "lines",
         "type": "scatter",
         "x": [
          70,
          63
         ],
         "y": [
          58,
          58
         ]
        },
        {
         "legendgroup": "R1",
         "line": {
          "color": "#FF9616"
         },
         "mode": "lines",
         "type": "scatter",
         "x": [
          63,
          60
         ],
         "y": [
          58,
          60
         ]
        },
        {
         "legendgroup": "R1",
         "line": {
          "color": "#FF9616"
         },
         "mode": "lines",
         "type": "scatter",
         "x": [
          60,
          40
         ],
         "y": [
          60,
          50
         ]
        },
        {
         "legendgroup": "R1",
         "line": {
          "color": "#479B55"
         },
         "mode": "lines",
         "type": "scatter",
         "x": [
          40,
          58
         ],
         "y": [
          50,
          75
         ]
        },
        {
         "legendgroup": "R1",
         "line": {
          "color": "#479B55"
         },
         "mode": "lines",
         "type": "scatter",
         "x": [
          58,
          60
         ],
         "y": [
          75,
          80
         ]
        },
        {
         "legendgroup": "R1",
         "line": {
          "color": "#479B55"
         },
         "mode": "lines",
         "type": "scatter",
         "x": [
          60,
          62
         ],
         "y": [
          80,
          80
         ]
        },
        {
         "legendgroup": "R1",
         "line": {
          "color": "#479B55"
         },
         "mode": "lines",
         "type": "scatter",
         "x": [
          62,
          65
         ],
         "y": [
          80,
          82
         ]
        },
        {
         "legendgroup": "R1",
         "line": {
          "color": "#479B55"
         },
         "mode": "lines",
         "type": "scatter",
         "x": [
          65,
          67
         ],
         "y": [
          82,
          85
         ]
        },
        {
         "legendgroup": "R1",
         "line": {
          "color": "#479B55"
         },
         "mode": "lines",
         "type": "scatter",
         "x": [
          67,
          65
         ],
         "y": [
          85,
          85
         ]
        },
        {
         "legendgroup": "R1",
         "line": {
          "color": "#479B55"
         },
         "mode": "lines",
         "type": "scatter",
         "x": [
          65,
          60
         ],
         "y": [
          85,
          85
         ]
        },
        {
         "legendgroup": "R1",
         "line": {
          "color": "#479B55"
         },
         "mode": "lines",
         "type": "scatter",
         "x": [
          60,
          55
         ],
         "y": [
          85,
          85
         ]
        },
        {
         "legendgroup": "R1",
         "line": {
          "color": "#479B55"
         },
         "mode": "lines",
         "type": "scatter",
         "x": [
          55,
          55
         ],
         "y": [
          85,
          80
         ]
        },
        {
         "legendgroup": "R1",
         "line": {
          "color": "#479B55"
         },
         "mode": "lines",
         "type": "scatter",
         "x": [
          55,
          45
         ],
         "y": [
          80,
          68
         ]
        },
        {
         "legendgroup": "R1",
         "line": {
          "color": "#479B55"
         },
         "mode": "lines",
         "type": "scatter",
         "x": [
          45,
          45
         ],
         "y": [
          68,
          65
         ]
        },
        {
         "legendgroup": "R1",
         "line": {
          "color": "#479B55"
         },
         "mode": "lines",
         "type": "scatter",
         "x": [
          45,
          40
         ],
         "y": [
          65,
          50
         ]
        },
        {
         "legendgroup": "R1",
         "line": {
          "color": "#EEA6FB"
         },
         "mode": "lines",
         "type": "scatter",
         "x": [
          40,
          42
         ],
         "y": [
          50,
          65
         ]
        },
        {
         "legendgroup": "R1",
         "line": {
          "color": "#EEA6FB"
         },
         "mode": "lines",
         "type": "scatter",
         "x": [
          42,
          42
         ],
         "y": [
          65,
          66
         ]
        },
        {
         "legendgroup": "R1",
         "line": {
          "color": "#EEA6FB"
         },
         "mode": "lines",
         "type": "scatter",
         "x": [
          42,
          40
         ],
         "y": [
          66,
          66
         ]
        },
        {
         "legendgroup": "R1",
         "line": {
          "color": "#EEA6FB"
         },
         "mode": "lines",
         "type": "scatter",
         "x": [
          40,
          38
         ],
         "y": [
          66,
          68
         ]
        },
        {
         "legendgroup": "R1",
         "line": {
          "color": "#EEA6FB"
         },
         "mode": "lines",
         "type": "scatter",
         "x": [
          38,
          35
         ],
         "y": [
          68,
          66
         ]
        },
        {
         "legendgroup": "R1",
         "line": {
          "color": "#EEA6FB"
         },
         "mode": "lines",
         "type": "scatter",
         "x": [
          35,
          35
         ],
         "y": [
          66,
          69
         ]
        },
        {
         "legendgroup": "R1",
         "line": {
          "color": "#EEA6FB"
         },
         "mode": "lines",
         "type": "scatter",
         "x": [
          35,
          38
         ],
         "y": [
          69,
          70
         ]
        },
        {
         "legendgroup": "R1",
         "line": {
          "color": "#EEA6FB"
         },
         "mode": "lines",
         "type": "scatter",
         "x": [
          38,
          40
         ],
         "y": [
          70,
          69
         ]
        },
        {
         "legendgroup": "R1",
         "line": {
          "color": "#EEA6FB"
         },
         "mode": "lines",
         "type": "scatter",
         "x": [
          40,
          42
         ],
         "y": [
          69,
          68
         ]
        },
        {
         "legendgroup": "R1",
         "line": {
          "color": "#EEA6FB"
         },
         "mode": "lines",
         "type": "scatter",
         "x": [
          42,
          45
         ],
         "y": [
          68,
          70
         ]
        },
        {
         "legendgroup": "R1",
         "line": {
          "color": "#EEA6FB"
         },
         "mode": "lines",
         "type": "scatter",
         "x": [
          45,
          40
         ],
         "y": [
          70,
          50
         ]
        }
       ],
       "layout": {
        "height": 600,
        "paper_bgcolor": "white",
        "plot_bgcolor": "white",
        "template": {
         "data": {
          "bar": [
           {
            "error_x": {
             "color": "#2a3f5f"
            },
            "error_y": {
             "color": "#2a3f5f"
            },
            "marker": {
             "line": {
              "color": "#E5ECF6",
              "width": 0.5
             },
             "pattern": {
              "fillmode": "overlay",
              "size": 10,
              "solidity": 0.2
             }
            },
            "type": "bar"
           }
          ],
          "barpolar": [
           {
            "marker": {
             "line": {
              "color": "#E5ECF6",
              "width": 0.5
             },
             "pattern": {
              "fillmode": "overlay",
              "size": 10,
              "solidity": 0.2
             }
            },
            "type": "barpolar"
           }
          ],
          "carpet": [
           {
            "aaxis": {
             "endlinecolor": "#2a3f5f",
             "gridcolor": "white",
             "linecolor": "white",
             "minorgridcolor": "white",
             "startlinecolor": "#2a3f5f"
            },
            "baxis": {
             "endlinecolor": "#2a3f5f",
             "gridcolor": "white",
             "linecolor": "white",
             "minorgridcolor": "white",
             "startlinecolor": "#2a3f5f"
            },
            "type": "carpet"
           }
          ],
          "choropleth": [
           {
            "colorbar": {
             "outlinewidth": 0,
             "ticks": ""
            },
            "type": "choropleth"
           }
          ],
          "contour": [
           {
            "colorbar": {
             "outlinewidth": 0,
             "ticks": ""
            },
            "colorscale": [
             [
              0,
              "#0d0887"
             ],
             [
              0.1111111111111111,
              "#46039f"
             ],
             [
              0.2222222222222222,
              "#7201a8"
             ],
             [
              0.3333333333333333,
              "#9c179e"
             ],
             [
              0.4444444444444444,
              "#bd3786"
             ],
             [
              0.5555555555555556,
              "#d8576b"
             ],
             [
              0.6666666666666666,
              "#ed7953"
             ],
             [
              0.7777777777777778,
              "#fb9f3a"
             ],
             [
              0.8888888888888888,
              "#fdca26"
             ],
             [
              1,
              "#f0f921"
             ]
            ],
            "type": "contour"
           }
          ],
          "contourcarpet": [
           {
            "colorbar": {
             "outlinewidth": 0,
             "ticks": ""
            },
            "type": "contourcarpet"
           }
          ],
          "heatmap": [
           {
            "colorbar": {
             "outlinewidth": 0,
             "ticks": ""
            },
            "colorscale": [
             [
              0,
              "#0d0887"
             ],
             [
              0.1111111111111111,
              "#46039f"
             ],
             [
              0.2222222222222222,
              "#7201a8"
             ],
             [
              0.3333333333333333,
              "#9c179e"
             ],
             [
              0.4444444444444444,
              "#bd3786"
             ],
             [
              0.5555555555555556,
              "#d8576b"
             ],
             [
              0.6666666666666666,
              "#ed7953"
             ],
             [
              0.7777777777777778,
              "#fb9f3a"
             ],
             [
              0.8888888888888888,
              "#fdca26"
             ],
             [
              1,
              "#f0f921"
             ]
            ],
            "type": "heatmap"
           }
          ],
          "heatmapgl": [
           {
            "colorbar": {
             "outlinewidth": 0,
             "ticks": ""
            },
            "colorscale": [
             [
              0,
              "#0d0887"
             ],
             [
              0.1111111111111111,
              "#46039f"
             ],
             [
              0.2222222222222222,
              "#7201a8"
             ],
             [
              0.3333333333333333,
              "#9c179e"
             ],
             [
              0.4444444444444444,
              "#bd3786"
             ],
             [
              0.5555555555555556,
              "#d8576b"
             ],
             [
              0.6666666666666666,
              "#ed7953"
             ],
             [
              0.7777777777777778,
              "#fb9f3a"
             ],
             [
              0.8888888888888888,
              "#fdca26"
             ],
             [
              1,
              "#f0f921"
             ]
            ],
            "type": "heatmapgl"
           }
          ],
          "histogram": [
           {
            "marker": {
             "pattern": {
              "fillmode": "overlay",
              "size": 10,
              "solidity": 0.2
             }
            },
            "type": "histogram"
           }
          ],
          "histogram2d": [
           {
            "colorbar": {
             "outlinewidth": 0,
             "ticks": ""
            },
            "colorscale": [
             [
              0,
              "#0d0887"
             ],
             [
              0.1111111111111111,
              "#46039f"
             ],
             [
              0.2222222222222222,
              "#7201a8"
             ],
             [
              0.3333333333333333,
              "#9c179e"
             ],
             [
              0.4444444444444444,
              "#bd3786"
             ],
             [
              0.5555555555555556,
              "#d8576b"
             ],
             [
              0.6666666666666666,
              "#ed7953"
             ],
             [
              0.7777777777777778,
              "#fb9f3a"
             ],
             [
              0.8888888888888888,
              "#fdca26"
             ],
             [
              1,
              "#f0f921"
             ]
            ],
            "type": "histogram2d"
           }
          ],
          "histogram2dcontour": [
           {
            "colorbar": {
             "outlinewidth": 0,
             "ticks": ""
            },
            "colorscale": [
             [
              0,
              "#0d0887"
             ],
             [
              0.1111111111111111,
              "#46039f"
             ],
             [
              0.2222222222222222,
              "#7201a8"
             ],
             [
              0.3333333333333333,
              "#9c179e"
             ],
             [
              0.4444444444444444,
              "#bd3786"
             ],
             [
              0.5555555555555556,
              "#d8576b"
             ],
             [
              0.6666666666666666,
              "#ed7953"
             ],
             [
              0.7777777777777778,
              "#fb9f3a"
             ],
             [
              0.8888888888888888,
              "#fdca26"
             ],
             [
              1,
              "#f0f921"
             ]
            ],
            "type": "histogram2dcontour"
           }
          ],
          "mesh3d": [
           {
            "colorbar": {
             "outlinewidth": 0,
             "ticks": ""
            },
            "type": "mesh3d"
           }
          ],
          "parcoords": [
           {
            "line": {
             "colorbar": {
              "outlinewidth": 0,
              "ticks": ""
             }
            },
            "type": "parcoords"
           }
          ],
          "pie": [
           {
            "automargin": true,
            "type": "pie"
           }
          ],
          "scatter": [
           {
            "fillpattern": {
             "fillmode": "overlay",
             "size": 10,
             "solidity": 0.2
            },
            "type": "scatter"
           }
          ],
          "scatter3d": [
           {
            "line": {
             "colorbar": {
              "outlinewidth": 0,
              "ticks": ""
             }
            },
            "marker": {
             "colorbar": {
              "outlinewidth": 0,
              "ticks": ""
             }
            },
            "type": "scatter3d"
           }
          ],
          "scattercarpet": [
           {
            "marker": {
             "colorbar": {
              "outlinewidth": 0,
              "ticks": ""
             }
            },
            "type": "scattercarpet"
           }
          ],
          "scattergeo": [
           {
            "marker": {
             "colorbar": {
              "outlinewidth": 0,
              "ticks": ""
             }
            },
            "type": "scattergeo"
           }
          ],
          "scattergl": [
           {
            "marker": {
             "colorbar": {
              "outlinewidth": 0,
              "ticks": ""
             }
            },
            "type": "scattergl"
           }
          ],
          "scattermapbox": [
           {
            "marker": {
             "colorbar": {
              "outlinewidth": 0,
              "ticks": ""
             }
            },
            "type": "scattermapbox"
           }
          ],
          "scatterpolar": [
           {
            "marker": {
             "colorbar": {
              "outlinewidth": 0,
              "ticks": ""
             }
            },
            "type": "scatterpolar"
           }
          ],
          "scatterpolargl": [
           {
            "marker": {
             "colorbar": {
              "outlinewidth": 0,
              "ticks": ""
             }
            },
            "type": "scatterpolargl"
           }
          ],
          "scatterternary": [
           {
            "marker": {
             "colorbar": {
              "outlinewidth": 0,
              "ticks": ""
             }
            },
            "type": "scatterternary"
           }
          ],
          "surface": [
           {
            "colorbar": {
             "outlinewidth": 0,
             "ticks": ""
            },
            "colorscale": [
             [
              0,
              "#0d0887"
             ],
             [
              0.1111111111111111,
              "#46039f"
             ],
             [
              0.2222222222222222,
              "#7201a8"
             ],
             [
              0.3333333333333333,
              "#9c179e"
             ],
             [
              0.4444444444444444,
              "#bd3786"
             ],
             [
              0.5555555555555556,
              "#d8576b"
             ],
             [
              0.6666666666666666,
              "#ed7953"
             ],
             [
              0.7777777777777778,
              "#fb9f3a"
             ],
             [
              0.8888888888888888,
              "#fdca26"
             ],
             [
              1,
              "#f0f921"
             ]
            ],
            "type": "surface"
           }
          ],
          "table": [
           {
            "cells": {
             "fill": {
              "color": "#EBF0F8"
             },
             "line": {
              "color": "white"
             }
            },
            "header": {
             "fill": {
              "color": "#C8D4E3"
             },
             "line": {
              "color": "white"
             }
            },
            "type": "table"
           }
          ]
         },
         "layout": {
          "annotationdefaults": {
           "arrowcolor": "#2a3f5f",
           "arrowhead": 0,
           "arrowwidth": 1
          },
          "autotypenumbers": "strict",
          "coloraxis": {
           "colorbar": {
            "outlinewidth": 0,
            "ticks": ""
           }
          },
          "colorscale": {
           "diverging": [
            [
             0,
             "#8e0152"
            ],
            [
             0.1,
             "#c51b7d"
            ],
            [
             0.2,
             "#de77ae"
            ],
            [
             0.3,
             "#f1b6da"
            ],
            [
             0.4,
             "#fde0ef"
            ],
            [
             0.5,
             "#f7f7f7"
            ],
            [
             0.6,
             "#e6f5d0"
            ],
            [
             0.7,
             "#b8e186"
            ],
            [
             0.8,
             "#7fbc41"
            ],
            [
             0.9,
             "#4d9221"
            ],
            [
             1,
             "#276419"
            ]
           ],
           "sequential": [
            [
             0,
             "#0d0887"
            ],
            [
             0.1111111111111111,
             "#46039f"
            ],
            [
             0.2222222222222222,
             "#7201a8"
            ],
            [
             0.3333333333333333,
             "#9c179e"
            ],
            [
             0.4444444444444444,
             "#bd3786"
            ],
            [
             0.5555555555555556,
             "#d8576b"
            ],
            [
             0.6666666666666666,
             "#ed7953"
            ],
            [
             0.7777777777777778,
             "#fb9f3a"
            ],
            [
             0.8888888888888888,
             "#fdca26"
            ],
            [
             1,
             "#f0f921"
            ]
           ],
           "sequentialminus": [
            [
             0,
             "#0d0887"
            ],
            [
             0.1111111111111111,
             "#46039f"
            ],
            [
             0.2222222222222222,
             "#7201a8"
            ],
            [
             0.3333333333333333,
             "#9c179e"
            ],
            [
             0.4444444444444444,
             "#bd3786"
            ],
            [
             0.5555555555555556,
             "#d8576b"
            ],
            [
             0.6666666666666666,
             "#ed7953"
            ],
            [
             0.7777777777777778,
             "#fb9f3a"
            ],
            [
             0.8888888888888888,
             "#fdca26"
            ],
            [
             1,
             "#f0f921"
            ]
           ]
          },
          "colorway": [
           "#636efa",
           "#EF553B",
           "#00cc96",
           "#ab63fa",
           "#FFA15A",
           "#19d3f3",
           "#FF6692",
           "#B6E880",
           "#FF97FF",
           "#FECB52"
          ],
          "font": {
           "color": "#2a3f5f"
          },
          "geo": {
           "bgcolor": "white",
           "lakecolor": "white",
           "landcolor": "#E5ECF6",
           "showlakes": true,
           "showland": true,
           "subunitcolor": "white"
          },
          "hoverlabel": {
           "align": "left"
          },
          "hovermode": "closest",
          "mapbox": {
           "style": "light"
          },
          "paper_bgcolor": "white",
          "plot_bgcolor": "#E5ECF6",
          "polar": {
           "angularaxis": {
            "gridcolor": "white",
            "linecolor": "white",
            "ticks": ""
           },
           "bgcolor": "#E5ECF6",
           "radialaxis": {
            "gridcolor": "white",
            "linecolor": "white",
            "ticks": ""
           }
          },
          "scene": {
           "xaxis": {
            "backgroundcolor": "#E5ECF6",
            "gridcolor": "white",
            "gridwidth": 2,
            "linecolor": "white",
            "showbackground": true,
            "ticks": "",
            "zerolinecolor": "white"
           },
           "yaxis": {
            "backgroundcolor": "#E5ECF6",
            "gridcolor": "white",
            "gridwidth": 2,
            "linecolor": "white",
            "showbackground": true,
            "ticks": "",
            "zerolinecolor": "white"
           },
           "zaxis": {
            "backgroundcolor": "#E5ECF6",
            "gridcolor": "white",
            "gridwidth": 2,
            "linecolor": "white",
            "showbackground": true,
            "ticks": "",
            "zerolinecolor": "white"
           }
          },
          "shapedefaults": {
           "line": {
            "color": "#2a3f5f"
           }
          },
          "ternary": {
           "aaxis": {
            "gridcolor": "white",
            "linecolor": "white",
            "ticks": ""
           },
           "baxis": {
            "gridcolor": "white",
            "linecolor": "white",
            "ticks": ""
           },
           "bgcolor": "#E5ECF6",
           "caxis": {
            "gridcolor": "white",
            "linecolor": "white",
            "ticks": ""
           }
          },
          "title": {
           "x": 0.05
          },
          "xaxis": {
           "automargin": true,
           "gridcolor": "white",
           "linecolor": "white",
           "ticks": "",
           "title": {
            "standoff": 15
           },
           "zerolinecolor": "white",
           "zerolinewidth": 2
          },
          "yaxis": {
           "automargin": true,
           "gridcolor": "white",
           "linecolor": "white",
           "ticks": "",
           "title": {
            "standoff": 15
           },
           "zerolinecolor": "white",
           "zerolinewidth": 2
          }
         }
        },
        "title": {
         "text": "Instance 0 with Fitness=1522.79, Time Unfitness=10.07, Strain Unfitness=0.55"
        },
        "xaxis": {
         "title": {
          "text": "X Coordinate"
         }
        },
        "yaxis": {
         "title": {
          "text": "Y Coordinate"
         }
        }
       }
      }
     },
     "metadata": {},
     "output_type": "display_data"
    }
   ],
   "source": [
    "import plotly.express as px\n",
    "import plotly.graph_objects as go\n",
    "from itertools import cycle\n",
    "\n",
    "depot_x, depot_y = depot['x_coord'], depot['y_coord']\n",
    "x_coords, y_coords = zip(*[(patient['x_coord'], patient['y_coord']) for patient in patients.values()])\n",
    "\n",
    "\n",
    "\n",
    "patient_hover_texts = [f\"Patient {pid}:<br>Location: ({patient['x_coord']}, {patient['y_coord']})<br>Time Window: [{patient['start_time']}, {patient['end_time']}]\" for pid, patient in patients.items()]\n",
    "\n",
    "# Create a scatter plot for patients\n",
    "patients_scatter = go.Scatter(x=x_coords, y=y_coords, mode='markers', marker=dict(symbol='circle', color='darkgrey'), name='Patients', text=patient_hover_texts, hoverinfo='text')\n",
    "\n",
    "# Create a scatter plot for the depot\n",
    "depot_scatter = go.Scatter(x=[depot_x], y=[depot_y], mode='markers', marker=dict(symbol='square', color='black'), name='Depot')\n",
    "\n",
    "\n",
    "# Create the figure and add the scatter plots\n",
    "fig = go.Figure()\n",
    "fig.add_trace(patients_scatter)\n",
    "fig.add_trace(depot_scatter)\n",
    "from itertools import cycle\n",
    "\n",
    "# Generate a list of distinct colors\n",
    "num_routes = 25  # Or however many routes you have\n",
    "\n",
    "\n",
    "colors = px.colors.qualitative.Light24\n",
    "colors.append('#1CA71C')\n",
    "colors.append('#FFA500')\n",
    "colors = iter(cycle(colors))\n",
    "# Current color\n",
    "\n",
    "color_ind = 1\n",
    "\n",
    "\n",
    "\n",
    "color = next(colors)\n",
    "for start, end in arcs:\n",
    "    if (start[0] == depot_x and start[1] == depot_y):  # Start at the depot\n",
    "        color = next(colors)  # Change color for the new route\n",
    "    fig.add_trace(go.Scatter(x=[start[0], end[0]], y=[start[1], end[1]], mode='lines', line=dict(color=color), legendgroup=f'R{color_ind}'))\n",
    "\n",
    "# Set axis labels\n",
    "fig.update_layout(\n",
    "    xaxis_title='X Coordinate', \n",
    "    yaxis_title='Y Coordinate', \n",
    "    title=f'Instance {instance} with Fitness={fitness:.2f}, Time Unfitness={time_unfitness:.2f}, Strain Unfitness={strain_unfitness:.2f}', \n",
    "    plot_bgcolor='white', \n",
    "    paper_bgcolor='white',\n",
    "    height=600,\n",
    ")\n",
    "\n",
    "# Show the plot\n",
    "fig.show()"
   ]
  },
  {
   "cell_type": "code",
   "execution_count": 3,
   "metadata": {},
   "outputs": [
    {
     "name": "stdout",
     "output_type": "stream",
     "text": [
      "((5, 35), (2, 40))\n",
      "((2, 40), (0, 40))\n"
     ]
    }
   ],
   "source": [
    "for arc in arcs:\n",
    "    if (2, 40) in arc:\n",
    "        print(arc)"
   ]
  },
  {
   "cell_type": "code",
   "execution_count": 4,
   "metadata": {},
   "outputs": [],
   "source": [
    "colors = px.colors.qualitative.Light24\n"
   ]
  },
  {
   "cell_type": "code",
   "execution_count": 5,
   "metadata": {},
   "outputs": [
    {
     "data": {
      "text/plain": [
       "'#FD3216'"
      ]
     },
     "execution_count": 5,
     "metadata": {},
     "output_type": "execute_result"
    }
   ],
   "source": [
    "colors[0]"
   ]
  },
  {
   "cell_type": "code",
   "execution_count": 6,
   "metadata": {},
   "outputs": [
    {
     "data": {
      "text/plain": [
       "[((40, 50), (22, 75)),\n",
       " ((22, 75), (18, 75)),\n",
       " ((18, 75), (15, 75)),\n",
       " ((15, 75), (15, 80)),\n",
       " ((15, 80), (20, 80)),\n",
       " ((20, 80), (23, 55)),\n",
       " ((23, 55), (22, 85)),\n",
       " ((22, 85), (20, 85)),\n",
       " ((20, 85), (25, 85)),\n",
       " ((25, 85), (25, 55)),\n",
       " ((25, 55), (28, 55)),\n",
       " ((28, 55), (40, 50)),\n",
       " ((40, 50), (30, 50)),\n",
       " ((30, 50), (23, 52)),\n",
       " ((23, 52), (25, 52)),\n",
       " ((25, 52), (20, 50)),\n",
       " ((20, 50), (0, 45)),\n",
       " ((0, 45), (5, 45)),\n",
       " ((5, 45), (25, 50)),\n",
       " ((25, 50), (8, 45)),\n",
       " ((8, 45), (28, 52)),\n",
       " ((28, 52), (20, 55)),\n",
       " ((20, 55), (30, 52)),\n",
       " ((30, 52), (40, 50)),\n",
       " ((40, 50), (10, 40)),\n",
       " ((10, 40), (8, 40)),\n",
       " ((8, 40), (10, 35)),\n",
       " ((10, 35), (5, 35)),\n",
       " ((5, 35), (2, 40)),\n",
       " ((2, 40), (0, 40)),\n",
       " ((0, 40), (25, 30)),\n",
       " ((25, 30), (26, 32)),\n",
       " ((26, 32), (25, 35)),\n",
       " ((25, 35), (28, 35)),\n",
       " ((28, 35), (30, 35)),\n",
       " ((30, 35), (40, 50)),\n",
       " ((40, 50), (33, 35)),\n",
       " ((33, 35), (35, 32)),\n",
       " ((35, 32), (35, 30)),\n",
       " ((35, 30), (32, 30)),\n",
       " ((32, 30), (30, 30)),\n",
       " ((30, 30), (35, 5)),\n",
       " ((35, 5), (30, 32)),\n",
       " ((30, 32), (33, 32)),\n",
       " ((33, 32), (38, 5)),\n",
       " ((38, 5), (28, 30)),\n",
       " ((28, 30), (38, 15)),\n",
       " ((38, 15), (40, 50)),\n",
       " ((40, 50), (40, 15)),\n",
       " ((40, 15), (50, 35)),\n",
       " ((50, 35), (42, 15)),\n",
       " ((42, 15), (40, 5)),\n",
       " ((40, 5), (44, 5)),\n",
       " ((44, 5), (53, 30)),\n",
       " ((53, 30), (48, 30)),\n",
       " ((48, 30), (50, 30)),\n",
       " ((50, 30), (45, 30)),\n",
       " ((45, 30), (42, 10)),\n",
       " ((42, 10), (47, 35)),\n",
       " ((47, 35), (45, 35)),\n",
       " ((45, 35), (40, 50)),\n",
       " ((40, 50), (85, 35)),\n",
       " ((85, 35), (48, 40)),\n",
       " ((48, 40), (88, 35)),\n",
       " ((88, 35), (47, 40)),\n",
       " ((47, 40), (53, 35)),\n",
       " ((53, 35), (95, 30)),\n",
       " ((95, 30), (50, 40)),\n",
       " ((50, 40), (92, 30)),\n",
       " ((92, 30), (87, 30)),\n",
       " ((87, 30), (88, 30)),\n",
       " ((88, 30), (85, 25)),\n",
       " ((85, 25), (40, 50)),\n",
       " ((40, 50), (60, 55)),\n",
       " ((60, 55), (65, 55)),\n",
       " ((65, 55), (90, 35)),\n",
       " ((90, 35), (66, 55)),\n",
       " ((66, 55), (75, 55)),\n",
       " ((75, 55), (72, 55)),\n",
       " ((72, 55), (95, 35)),\n",
       " ((95, 35), (68, 60)),\n",
       " ((68, 60), (65, 60)),\n",
       " ((65, 60), (70, 58)),\n",
       " ((70, 58), (63, 58)),\n",
       " ((63, 58), (60, 60)),\n",
       " ((60, 60), (40, 50)),\n",
       " ((40, 50), (58, 75)),\n",
       " ((58, 75), (60, 80)),\n",
       " ((60, 80), (62, 80)),\n",
       " ((62, 80), (65, 82)),\n",
       " ((65, 82), (67, 85)),\n",
       " ((67, 85), (65, 85)),\n",
       " ((65, 85), (60, 85)),\n",
       " ((60, 85), (55, 85)),\n",
       " ((55, 85), (55, 80)),\n",
       " ((55, 80), (45, 68)),\n",
       " ((45, 68), (45, 65)),\n",
       " ((45, 65), (40, 50)),\n",
       " ((40, 50), (42, 65)),\n",
       " ((42, 65), (42, 66)),\n",
       " ((42, 66), (40, 66)),\n",
       " ((40, 66), (38, 68)),\n",
       " ((38, 68), (35, 66)),\n",
       " ((35, 66), (35, 69)),\n",
       " ((35, 69), (38, 70)),\n",
       " ((38, 70), (40, 69)),\n",
       " ((40, 69), (42, 68)),\n",
       " ((42, 68), (45, 70)),\n",
       " ((45, 70), (40, 50))]"
      ]
     },
     "execution_count": 6,
     "metadata": {},
     "output_type": "execute_result"
    }
   ],
   "source": [
    "arcs"
   ]
  },
  {
   "cell_type": "code",
   "execution_count": 7,
   "metadata": {},
   "outputs": [
    {
     "data": {
      "text/plain": [
       "[8,\n",
       " 9,\n",
       " 9,\n",
       " 9,\n",
       " 9,\n",
       " 9,\n",
       " 9,\n",
       " 9,\n",
       " 9,\n",
       " 9,\n",
       " 9,\n",
       " 1,\n",
       " 1,\n",
       " 1,\n",
       " 1,\n",
       " 1,\n",
       " 1,\n",
       " 1,\n",
       " 1,\n",
       " 2,\n",
       " 2,\n",
       " 2,\n",
       " 1,\n",
       " 2,\n",
       " 2,\n",
       " 1,\n",
       " 2,\n",
       " 1,\n",
       " 2,\n",
       " 2,\n",
       " 3,\n",
       " 3,\n",
       " 3,\n",
       " 2,\n",
       " 3,\n",
       " 2,\n",
       " 3,\n",
       " 3,\n",
       " 2,\n",
       " 4,\n",
       " 4,\n",
       " 4,\n",
       " 4,\n",
       " 4,\n",
       " 4,\n",
       " 4,\n",
       " 3,\n",
       " 4,\n",
       " 3,\n",
       " 3,\n",
       " 3,\n",
       " 3,\n",
       " 5,\n",
       " 5,\n",
       " 5,\n",
       " 5,\n",
       " 5,\n",
       " 4,\n",
       " 4,\n",
       " 4,\n",
       " 5,\n",
       " 5,\n",
       " 6,\n",
       " 5,\n",
       " 6,\n",
       " 5,\n",
       " 6,\n",
       " 5,\n",
       " 5,\n",
       " 6,\n",
       " 7,\n",
       " 5,\n",
       " 6,\n",
       " 6,\n",
       " 8,\n",
       " 7,\n",
       " 6,\n",
       " 6,\n",
       " 6,\n",
       " 6,\n",
       " 6,\n",
       " 7,\n",
       " 7,\n",
       " 7,\n",
       " 7,\n",
       " 7,\n",
       " 7,\n",
       " 7,\n",
       " 7,\n",
       " 7,\n",
       " 7,\n",
       " 8,\n",
       " 8,\n",
       " 8,\n",
       " 8,\n",
       " 8,\n",
       " 8,\n",
       " 8,\n",
       " 8,\n",
       " 8]"
      ]
     },
     "execution_count": 7,
     "metadata": {},
     "output_type": "execute_result"
    }
   ],
   "source": [
    "data['genotype']"
   ]
  },
  {
   "cell_type": "code",
   "execution_count": null,
   "metadata": {},
   "outputs": [],
   "source": []
  }
 ],
 "metadata": {
  "kernelspec": {
   "display_name": "bio",
   "language": "python",
   "name": "python3"
  },
  "language_info": {
   "codemirror_mode": {
    "name": "ipython",
    "version": 3
   },
   "file_extension": ".py",
   "mimetype": "text/x-python",
   "name": "python",
   "nbconvert_exporter": "python",
   "pygments_lexer": "ipython3",
   "version": "3.11.0"
  }
 },
 "nbformat": 4,
 "nbformat_minor": 2
}
