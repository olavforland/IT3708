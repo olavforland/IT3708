{
 "cells": [
  {
   "cell_type": "code",
   "execution_count": null,
   "metadata": {},
   "outputs": [],
   "source": [
    "import json\n",
    "\n",
    "def id_2_coords(id):\n",
    "    if id == 0:\n",
    "        return depot['x_coord'], depot['y_coord']\n",
    "    else:\n",
    "        return patients[str(id)]['x_coord'], patients[str(id)]['y_coord']\n",
    "\n",
    "instance = 9\n",
    "\n",
    "filename = f'train_{instance}.json'\n",
    "\n",
    "with open('../data/' + filename, 'r') as file:\n",
    "    data = json.load(file)\n",
    "\n",
    "depot = data['depot']\n",
    "patients = data['patients']\n",
    "\n",
    "with open('../solutions/' + filename, 'r') as file:\n",
    "    data = json.load(file)\n",
    "\n",
    "chromosomes = []\n",
    "for chromosome in data:\n",
    "\n",
    "    solution = chromosome['phenotype']\n",
    "    fitness = chromosome['fitness']\n",
    "    time_unfitness = chromosome['time_unfitness']\n",
    "    strain_unfitness = chromosome['strain_unfitness']\n",
    "\n",
    "    # Create arcs\n",
    "    visits = []\n",
    "    for route in solution:\n",
    "        if len(route) == 0:\n",
    "            continue\n",
    "        visits.append(0)\n",
    "        visits.extend(route)\n",
    "    visits.append(0)\n",
    "\n",
    "    arcs = list(zip(visits[:-1], visits[1:]))\n",
    "\n",
    "    arcs = [(id_2_coords(a), id_2_coords(b)) for a, b in arcs]\n",
    "\n",
    "    chromosomes.append(dict(\n",
    "        arcs=arcs,\n",
    "        genotype=chromosome['genotype'],\n",
    "        fitness=fitness,\n",
    "        time_unfitness=time_unfitness,\n",
    "        strain_unfitness=strain_unfitness\n",
    "    ))"
   ]
  },
  {
   "cell_type": "code",
   "execution_count": null,
   "metadata": {},
   "outputs": [],
   "source": [
    "import plotly.express as px\n",
    "import plotly.graph_objects as go\n",
    "from itertools import cycle\n",
    "\n",
    "solution_nr = 0\n",
    "chromosome = sorted(chromosomes, key=lambda x: (x['time_unfitness'], x['strain_unfitness'], x['fitness']))[solution_nr]\n",
    "\n",
    "depot_x, depot_y = depot['x_coord'], depot['y_coord']\n",
    "x_coords, y_coords = zip(*[(patient['x_coord'], patient['y_coord']) for patient in patients.values()])\n",
    "\n",
    "patient_hover_texts = [f\"Patient {pid}:<br>Location: ({patient['x_coord']}, {patient['y_coord']})<br>Time Window: [{patient['start_time']}, {patient['end_time']}]<br>Visited by nurse {chromosome['genotype'][int(pid)-1]}\" \n",
    "                       for pid, patient in patients.items()]\n",
    "\n",
    "# Create a scatter plot for patients\n",
    "patients_scatter = go.Scatter(x=x_coords, y=y_coords, mode='markers', marker=dict(symbol='circle', color='darkgrey'), name='Patients', text=patient_hover_texts, hoverinfo='text')\n",
    "\n",
    "\n",
    "# Create a scatter plot for the depot\n",
    "depot_scatter = go.Scatter(x=[depot_x], y=[depot_y], mode='markers', marker=dict(symbol='square', color='black'), name='Depot')\n",
    "\n",
    "\n",
    "# Create the figure and add the scatter plots\n",
    "fig = go.Figure()\n",
    "fig.add_trace(patients_scatter)\n",
    "fig.add_trace(depot_scatter)\n",
    "from itertools import cycle\n",
    "\n",
    "# Generate a list of distinct colors\n",
    "num_routes = 25  # Or however many routes you have\n",
    "\n",
    "\n",
    "colors = px.colors.qualitative.Light24\n",
    "colors.append('#1CA71C')\n",
    "colors.append('#FFA500')\n",
    "colors = iter(cycle(colors))\n",
    "# Current color\n",
    "\n",
    "color_ind = 1\n",
    "\n",
    "\n",
    "\n",
    "color = next(colors)\n",
    "for start, end in chromosome['arcs']:\n",
    "    if (start[0] == depot_x and start[1] == depot_y):  # Start at the depot\n",
    "        color = next(colors)  # Change color for the new route\n",
    "    fig.add_trace(go.Scatter(x=[start[0], end[0]], y=[start[1], end[1]], mode='lines', line=dict(color=color), legendgroup=f'R{color_ind}'))\n",
    "\n",
    "# Set axis labels\n",
    "fig.update_layout(\n",
    "    xaxis_title='X Coordinate', \n",
    "    yaxis_title='Y Coordinate', \n",
    "    title=f\"Top {solution_nr+1} Solution of Instance {instance} with Fitness={chromosome['fitness']:.2f}, Time Unfitness={chromosome['time_unfitness']:.2f}, Strain Unfitness={chromosome['strain_unfitness']:.2f}\", \n",
    "    plot_bgcolor='white', \n",
    "    paper_bgcolor='white',\n",
    "    height=600,\n",
    ")\n",
    "\n",
    "# Show the plot\n",
    "fig.show()"
   ]
  },
  {
   "cell_type": "code",
   "execution_count": null,
   "metadata": {},
   "outputs": [],
   "source": [
    "for arc in arcs:\n",
    "    if (2, 40) in arc:\n",
    "        print(arc)"
   ]
  },
  {
   "cell_type": "code",
   "execution_count": null,
   "metadata": {},
   "outputs": [],
   "source": [
    "colors = px.colors.qualitative.Light24\n"
   ]
  },
  {
   "cell_type": "code",
   "execution_count": null,
   "metadata": {},
   "outputs": [],
   "source": [
    "colors[0]"
   ]
  },
  {
   "cell_type": "code",
   "execution_count": null,
   "metadata": {},
   "outputs": [],
   "source": [
    "arcs"
   ]
  },
  {
   "cell_type": "code",
   "execution_count": null,
   "metadata": {},
   "outputs": [],
   "source": [
    "data['genotype']"
   ]
  },
  {
   "cell_type": "code",
   "execution_count": null,
   "metadata": {},
   "outputs": [],
   "source": []
  }
 ],
 "metadata": {
  "kernelspec": {
   "display_name": "bio",
   "language": "python",
   "name": "python3"
  },
  "language_info": {
   "codemirror_mode": {
    "name": "ipython",
    "version": 3
   },
   "file_extension": ".py",
   "mimetype": "text/x-python",
   "name": "python",
   "nbconvert_exporter": "python",
   "pygments_lexer": "ipython3",
   "version": "3.11.0"
  }
 },
 "nbformat": 4,
 "nbformat_minor": 2
}
